{
 "cells": [
  {
   "cell_type": "markdown",
   "id": "f0871bdb-5861-4ac1-bb75-cd9b2fe74b91",
   "metadata": {},
   "source": [
    "Bone Marrow Transplants in Children \n",
    "=====\n",
    "A Classification Analysis\n",
    "----"
   ]
  },
  {
   "cell_type": "code",
   "execution_count": 2,
   "id": "735e4582-6c7d-4a25-9888-d0f9b8f1b504",
   "metadata": {},
   "outputs": [
    {
     "name": "stderr",
     "output_type": "stream",
     "text": [
      "── \u001b[1mAttaching packages\u001b[22m ─────────────────────────────────────── tidyverse 1.3.1 ──\n",
      "\n",
      "\u001b[32m✔\u001b[39m \u001b[34mggplot2\u001b[39m 3.3.6     \u001b[32m✔\u001b[39m \u001b[34mpurrr  \u001b[39m 0.3.4\n",
      "\u001b[32m✔\u001b[39m \u001b[34mtibble \u001b[39m 3.1.7     \u001b[32m✔\u001b[39m \u001b[34mdplyr  \u001b[39m 1.0.9\n",
      "\u001b[32m✔\u001b[39m \u001b[34mtidyr  \u001b[39m 1.2.0     \u001b[32m✔\u001b[39m \u001b[34mstringr\u001b[39m 1.4.0\n",
      "\u001b[32m✔\u001b[39m \u001b[34mreadr  \u001b[39m 2.1.2     \u001b[32m✔\u001b[39m \u001b[34mforcats\u001b[39m 0.5.1\n",
      "\n",
      "── \u001b[1mConflicts\u001b[22m ────────────────────────────────────────── tidyverse_conflicts() ──\n",
      "\u001b[31m✖\u001b[39m \u001b[34mdplyr\u001b[39m::\u001b[32mfilter()\u001b[39m masks \u001b[34mstats\u001b[39m::filter()\n",
      "\u001b[31m✖\u001b[39m \u001b[34mdplyr\u001b[39m::\u001b[32mlag()\u001b[39m    masks \u001b[34mstats\u001b[39m::lag()\n",
      "\n",
      "── \u001b[1mAttaching packages\u001b[22m ────────────────────────────────────── tidymodels 1.0.0 ──\n",
      "\n",
      "\u001b[32m✔\u001b[39m \u001b[34mbroom       \u001b[39m 1.0.0     \u001b[32m✔\u001b[39m \u001b[34mrsample     \u001b[39m 1.0.0\n",
      "\u001b[32m✔\u001b[39m \u001b[34mdials       \u001b[39m 1.0.0     \u001b[32m✔\u001b[39m \u001b[34mtune        \u001b[39m 1.0.0\n",
      "\u001b[32m✔\u001b[39m \u001b[34minfer       \u001b[39m 1.0.2     \u001b[32m✔\u001b[39m \u001b[34mworkflows   \u001b[39m 1.0.0\n",
      "\u001b[32m✔\u001b[39m \u001b[34mmodeldata   \u001b[39m 1.0.0     \u001b[32m✔\u001b[39m \u001b[34mworkflowsets\u001b[39m 1.0.0\n",
      "\u001b[32m✔\u001b[39m \u001b[34mparsnip     \u001b[39m 1.0.0     \u001b[32m✔\u001b[39m \u001b[34myardstick   \u001b[39m 1.0.0\n",
      "\u001b[32m✔\u001b[39m \u001b[34mrecipes     \u001b[39m 1.0.1     \n",
      "\n",
      "── \u001b[1mConflicts\u001b[22m ───────────────────────────────────────── tidymodels_conflicts() ──\n",
      "\u001b[31m✖\u001b[39m \u001b[34mscales\u001b[39m::\u001b[32mdiscard()\u001b[39m masks \u001b[34mpurrr\u001b[39m::discard()\n",
      "\u001b[31m✖\u001b[39m \u001b[34mdplyr\u001b[39m::\u001b[32mfilter()\u001b[39m   masks \u001b[34mstats\u001b[39m::filter()\n",
      "\u001b[31m✖\u001b[39m \u001b[34mrecipes\u001b[39m::\u001b[32mfixed()\u001b[39m  masks \u001b[34mstringr\u001b[39m::fixed()\n",
      "\u001b[31m✖\u001b[39m \u001b[34mdplyr\u001b[39m::\u001b[32mlag()\u001b[39m      masks \u001b[34mstats\u001b[39m::lag()\n",
      "\u001b[31m✖\u001b[39m \u001b[34myardstick\u001b[39m::\u001b[32mspec()\u001b[39m masks \u001b[34mreadr\u001b[39m::spec()\n",
      "\u001b[31m✖\u001b[39m \u001b[34mrecipes\u001b[39m::\u001b[32mstep()\u001b[39m   masks \u001b[34mstats\u001b[39m::step()\n",
      "\u001b[34m•\u001b[39m Use suppressPackageStartupMessages() to eliminate package startup messages\n",
      "\n"
     ]
    }
   ],
   "source": [
    "library(tidyverse)\n",
    "library(tidymodels)\n",
    "library(repr) "
   ]
  },
  {
   "cell_type": "markdown",
   "id": "7cf70c8b-86c1-4514-8120-e10fbdb61d60",
   "metadata": {},
   "source": [
    "Step 1: Read in the Data\n",
    "---"
   ]
  },
  {
   "cell_type": "code",
   "execution_count": 36,
   "id": "65d7afe8-a732-424d-8a37-76ecddd3ad8c",
   "metadata": {},
   "outputs": [
    {
     "data": {
      "text/html": [
       "<table class=\"dataframe\">\n",
       "<caption>A data.frame: 6 × 37</caption>\n",
       "<thead>\n",
       "\t<tr><th></th><th scope=col>X.Recipientgender..1.0.</th><th scope=col>Stemcellsource..1.0..</th><th scope=col>Donorage.numeric</th><th scope=col>Donorage35..0.1.</th><th scope=col>IIIV..1.0.</th><th scope=col>Gendermatch..0.1.</th><th scope=col>DonorABO..1..1.2.0.</th><th scope=col>RecipientABO..1..1.2.0.</th><th scope=col>RecipientRh..1.0.</th><th scope=col>ABOmatch..0.1.</th><th scope=col>⋯</th><th scope=col>extcGvHD..1.0.</th><th scope=col>CD34kgx10d6.numeric</th><th scope=col>CD3dCD34.numeric</th><th scope=col>CD3dkgx10d8.numeric</th><th scope=col>Rbodymass.numeric</th><th scope=col>ANCrecovery.numeric</th><th scope=col>PLTrecovery.numeric</th><th scope=col>time_to_aGvHD_III_IV.numeric</th><th scope=col>survival_time.numeric</th><th scope=col>survival_status.numeric</th></tr>\n",
       "\t<tr><th></th><th scope=col>&lt;int&gt;</th><th scope=col>&lt;int&gt;</th><th scope=col>&lt;dbl&gt;</th><th scope=col>&lt;int&gt;</th><th scope=col>&lt;int&gt;</th><th scope=col>&lt;int&gt;</th><th scope=col>&lt;int&gt;</th><th scope=col>&lt;chr&gt;</th><th scope=col>&lt;chr&gt;</th><th scope=col>&lt;chr&gt;</th><th scope=col>⋯</th><th scope=col>&lt;chr&gt;</th><th scope=col>&lt;dbl&gt;</th><th scope=col>&lt;chr&gt;</th><th scope=col>&lt;chr&gt;</th><th scope=col>&lt;chr&gt;</th><th scope=col>&lt;int&gt;</th><th scope=col>&lt;int&gt;</th><th scope=col>&lt;int&gt;</th><th scope=col>&lt;int&gt;</th><th scope=col>&lt;int&gt;</th></tr>\n",
       "</thead>\n",
       "<tbody>\n",
       "\t<tr><th scope=row>1</th><td>1</td><td>0</td><td>23.34247</td><td>0</td><td>1</td><td>0</td><td>-1</td><td>-1</td><td>1</td><td>0</td><td>⋯</td><td>1</td><td> 4.50</td><td>11.078295</td><td>0.41 </td><td>20.6</td><td>16</td><td>37</td><td>1000000</td><td> 163</td><td>1</td></tr>\n",
       "\t<tr><th scope=row>2</th><td>1</td><td>0</td><td>26.39452</td><td>0</td><td>1</td><td>0</td><td>-1</td><td>-1</td><td>1</td><td>0</td><td>⋯</td><td>1</td><td> 7.94</td><td>19.01323 </td><td>0.42 </td><td>23.4</td><td>23</td><td>20</td><td>1000000</td><td> 435</td><td>1</td></tr>\n",
       "\t<tr><th scope=row>3</th><td>0</td><td>0</td><td>39.68493</td><td>1</td><td>1</td><td>0</td><td> 1</td><td>2 </td><td>1</td><td>1</td><td>⋯</td><td>?</td><td> 4.25</td><td>29.481647</td><td>0.14 </td><td>50  </td><td>23</td><td>29</td><td>     19</td><td>  53</td><td>1</td></tr>\n",
       "\t<tr><th scope=row>4</th><td>0</td><td>1</td><td>33.35890</td><td>0</td><td>0</td><td>0</td><td> 1</td><td>2 </td><td>0</td><td>1</td><td>⋯</td><td>1</td><td>51.85</td><td>3.972255 </td><td>13.05</td><td>9   </td><td>14</td><td>14</td><td>1000000</td><td>2043</td><td>0</td></tr>\n",
       "\t<tr><th scope=row>5</th><td>1</td><td>0</td><td>27.39178</td><td>0</td><td>0</td><td>0</td><td> 2</td><td>0 </td><td>1</td><td>1</td><td>⋯</td><td>1</td><td> 3.27</td><td>8.412758 </td><td>0.39 </td><td>40  </td><td>16</td><td>70</td><td>1000000</td><td>2800</td><td>0</td></tr>\n",
       "\t<tr><th scope=row>6</th><td>0</td><td>1</td><td>34.52055</td><td>0</td><td>1</td><td>0</td><td> 0</td><td>1 </td><td>0</td><td>1</td><td>⋯</td><td>?</td><td>17.78</td><td>2.406248 </td><td>7.39 </td><td>51  </td><td>17</td><td>29</td><td>     18</td><td>  41</td><td>1</td></tr>\n",
       "</tbody>\n",
       "</table>\n"
      ],
      "text/latex": [
       "A data.frame: 6 × 37\n",
       "\\begin{tabular}{r|lllllllllllllllllllll}\n",
       "  & X.Recipientgender..1.0. & Stemcellsource..1.0.. & Donorage.numeric & Donorage35..0.1. & IIIV..1.0. & Gendermatch..0.1. & DonorABO..1..1.2.0. & RecipientABO..1..1.2.0. & RecipientRh..1.0. & ABOmatch..0.1. & ⋯ & extcGvHD..1.0. & CD34kgx10d6.numeric & CD3dCD34.numeric & CD3dkgx10d8.numeric & Rbodymass.numeric & ANCrecovery.numeric & PLTrecovery.numeric & time\\_to\\_aGvHD\\_III\\_IV.numeric & survival\\_time.numeric & survival\\_status.numeric\\\\\n",
       "  & <int> & <int> & <dbl> & <int> & <int> & <int> & <int> & <chr> & <chr> & <chr> & ⋯ & <chr> & <dbl> & <chr> & <chr> & <chr> & <int> & <int> & <int> & <int> & <int>\\\\\n",
       "\\hline\n",
       "\t1 & 1 & 0 & 23.34247 & 0 & 1 & 0 & -1 & -1 & 1 & 0 & ⋯ & 1 &  4.50 & 11.078295 & 0.41  & 20.6 & 16 & 37 & 1000000 &  163 & 1\\\\\n",
       "\t2 & 1 & 0 & 26.39452 & 0 & 1 & 0 & -1 & -1 & 1 & 0 & ⋯ & 1 &  7.94 & 19.01323  & 0.42  & 23.4 & 23 & 20 & 1000000 &  435 & 1\\\\\n",
       "\t3 & 0 & 0 & 39.68493 & 1 & 1 & 0 &  1 & 2  & 1 & 1 & ⋯ & ? &  4.25 & 29.481647 & 0.14  & 50   & 23 & 29 &      19 &   53 & 1\\\\\n",
       "\t4 & 0 & 1 & 33.35890 & 0 & 0 & 0 &  1 & 2  & 0 & 1 & ⋯ & 1 & 51.85 & 3.972255  & 13.05 & 9    & 14 & 14 & 1000000 & 2043 & 0\\\\\n",
       "\t5 & 1 & 0 & 27.39178 & 0 & 0 & 0 &  2 & 0  & 1 & 1 & ⋯ & 1 &  3.27 & 8.412758  & 0.39  & 40   & 16 & 70 & 1000000 & 2800 & 0\\\\\n",
       "\t6 & 0 & 1 & 34.52055 & 0 & 1 & 0 &  0 & 1  & 0 & 1 & ⋯ & ? & 17.78 & 2.406248  & 7.39  & 51   & 17 & 29 &      18 &   41 & 1\\\\\n",
       "\\end{tabular}\n"
      ],
      "text/markdown": [
       "\n",
       "A data.frame: 6 × 37\n",
       "\n",
       "| <!--/--> | X.Recipientgender..1.0. &lt;int&gt; | Stemcellsource..1.0.. &lt;int&gt; | Donorage.numeric &lt;dbl&gt; | Donorage35..0.1. &lt;int&gt; | IIIV..1.0. &lt;int&gt; | Gendermatch..0.1. &lt;int&gt; | DonorABO..1..1.2.0. &lt;int&gt; | RecipientABO..1..1.2.0. &lt;chr&gt; | RecipientRh..1.0. &lt;chr&gt; | ABOmatch..0.1. &lt;chr&gt; | ⋯ ⋯ | extcGvHD..1.0. &lt;chr&gt; | CD34kgx10d6.numeric &lt;dbl&gt; | CD3dCD34.numeric &lt;chr&gt; | CD3dkgx10d8.numeric &lt;chr&gt; | Rbodymass.numeric &lt;chr&gt; | ANCrecovery.numeric &lt;int&gt; | PLTrecovery.numeric &lt;int&gt; | time_to_aGvHD_III_IV.numeric &lt;int&gt; | survival_time.numeric &lt;int&gt; | survival_status.numeric &lt;int&gt; |\n",
       "|---|---|---|---|---|---|---|---|---|---|---|---|---|---|---|---|---|---|---|---|---|---|\n",
       "| 1 | 1 | 0 | 23.34247 | 0 | 1 | 0 | -1 | -1 | 1 | 0 | ⋯ | 1 |  4.50 | 11.078295 | 0.41  | 20.6 | 16 | 37 | 1000000 |  163 | 1 |\n",
       "| 2 | 1 | 0 | 26.39452 | 0 | 1 | 0 | -1 | -1 | 1 | 0 | ⋯ | 1 |  7.94 | 19.01323  | 0.42  | 23.4 | 23 | 20 | 1000000 |  435 | 1 |\n",
       "| 3 | 0 | 0 | 39.68493 | 1 | 1 | 0 |  1 | 2  | 1 | 1 | ⋯ | ? |  4.25 | 29.481647 | 0.14  | 50   | 23 | 29 |      19 |   53 | 1 |\n",
       "| 4 | 0 | 1 | 33.35890 | 0 | 0 | 0 |  1 | 2  | 0 | 1 | ⋯ | 1 | 51.85 | 3.972255  | 13.05 | 9    | 14 | 14 | 1000000 | 2043 | 0 |\n",
       "| 5 | 1 | 0 | 27.39178 | 0 | 0 | 0 |  2 | 0  | 1 | 1 | ⋯ | 1 |  3.27 | 8.412758  | 0.39  | 40   | 16 | 70 | 1000000 | 2800 | 0 |\n",
       "| 6 | 0 | 1 | 34.52055 | 0 | 1 | 0 |  0 | 1  | 0 | 1 | ⋯ | ? | 17.78 | 2.406248  | 7.39  | 51   | 17 | 29 |      18 |   41 | 1 |\n",
       "\n"
      ],
      "text/plain": [
       "  X.Recipientgender..1.0. Stemcellsource..1.0.. Donorage.numeric\n",
       "1 1                       0                     23.34247        \n",
       "2 1                       0                     26.39452        \n",
       "3 0                       0                     39.68493        \n",
       "4 0                       1                     33.35890        \n",
       "5 1                       0                     27.39178        \n",
       "6 0                       1                     34.52055        \n",
       "  Donorage35..0.1. IIIV..1.0. Gendermatch..0.1. DonorABO..1..1.2.0.\n",
       "1 0                1          0                 -1                 \n",
       "2 0                1          0                 -1                 \n",
       "3 1                1          0                  1                 \n",
       "4 0                0          0                  1                 \n",
       "5 0                0          0                  2                 \n",
       "6 0                1          0                  0                 \n",
       "  RecipientABO..1..1.2.0. RecipientRh..1.0. ABOmatch..0.1. ⋯ extcGvHD..1.0.\n",
       "1 -1                      1                 0              ⋯ 1             \n",
       "2 -1                      1                 0              ⋯ 1             \n",
       "3 2                       1                 1              ⋯ ?             \n",
       "4 2                       0                 1              ⋯ 1             \n",
       "5 0                       1                 1              ⋯ 1             \n",
       "6 1                       0                 1              ⋯ ?             \n",
       "  CD34kgx10d6.numeric CD3dCD34.numeric CD3dkgx10d8.numeric Rbodymass.numeric\n",
       "1  4.50               11.078295        0.41                20.6             \n",
       "2  7.94               19.01323         0.42                23.4             \n",
       "3  4.25               29.481647        0.14                50               \n",
       "4 51.85               3.972255         13.05               9                \n",
       "5  3.27               8.412758         0.39                40               \n",
       "6 17.78               2.406248         7.39                51               \n",
       "  ANCrecovery.numeric PLTrecovery.numeric time_to_aGvHD_III_IV.numeric\n",
       "1 16                  37                  1000000                     \n",
       "2 23                  20                  1000000                     \n",
       "3 23                  29                       19                     \n",
       "4 14                  14                  1000000                     \n",
       "5 16                  70                  1000000                     \n",
       "6 17                  29                       18                     \n",
       "  survival_time.numeric survival_status.numeric\n",
       "1  163                  1                      \n",
       "2  435                  1                      \n",
       "3   53                  1                      \n",
       "4 2043                  0                      \n",
       "5 2800                  0                      \n",
       "6   41                  1                      "
      ]
     },
     "metadata": {},
     "output_type": "display_data"
    }
   ],
   "source": [
    "\n",
    "bone_marrow_transplant_data <- read.table(\"https://archive.ics.uci.edu/ml/machine-learning-databases/00565/bone-marrow.arff\", \n",
    "                                          skip =109, sep=\",\", col.names = c(\" Recipientgender {1,0}\", \n",
    "\"Stemcellsource\",\n",
    "\"donor.age\",\n",
    "\"Donorage35\",\n",
    "\"IIIV\",\n",
    "\"Gendermatch\",\n",
    "\"DonorABO\",\n",
    "\"RecipientABO {1,-1,2,0}\" ,\n",
    "\"RecipientRh {1,0}\" ,\n",
    "\"ABOmatch {0,1}\" ,\n",
    "\"CMVstatus {3,2,1,0}\" ,\n",
    "\"DonorCMV {1,0}\" ,\n",
    "\"RecipientCMV {1,0}\" ,\n",
    "\"Disease {ALL,AML,chronic,nonmalignant,lymphoma}\" ,\n",
    "\"Riskgroup {1,0}\" ,\n",
    "\"Txpostrelapse {0,1}\" ,\n",
    "\"Diseasegroup {1,0}\" ,\n",
    "\"HLAmatch {0,1,3,2}\" ,\n",
    "\"HLAmismatch {0,1}\" ,\n",
    "\"Antigen {-1,1,0,2}\" ,\n",
    "\"Alel {-1,0,2,1,3}\" ,\n",
    "\"HLAgrI {0,1,7,3,2,4,5}\" ,\n",
    "\"Recipientage numeric\" ,\n",
    "\"Recipientage10 {0,1}\" ,\n",
    "\"Recipientageint {0,1,2}\" ,\n",
    "\"Relapse {0,1}\" ,\n",
    "\"aGvHDIIIIV {0,1}\" ,\n",
    "\"extcGvHD {1,0}\" ,\n",
    "\"CD34kgx10d6 numeric\" ,\n",
    "\"CD3dCD34 numeric\" ,\n",
    "\"CD3dkgx10d8 numeric\" ,\n",
    "\"Rbodymass numeric\" ,\n",
    "\"ANCrecovery numeric\" ,\n",
    "\"PLTrecovery numeric\" ,\n",
    "\"time_to_aGvHD_III_IV numeric\" ,\n",
    "\"survival_time numeric\" ,\n",
    "\"survival_status numeric\"))\n",
    "\n",
    "head(bone_marrow_transplant_data)"
   ]
  },
  {
   "cell_type": "markdown",
   "id": "9c4fd252-4c51-45d1-b831-cb9c464a77e6",
   "metadata": {},
   "source": [
    "Step 2: Clean and Wrangle Data into Tidy Format (and choose which columns we need to use for analysis)\n",
    "-----\n"
   ]
  },
  {
   "cell_type": "code",
   "execution_count": 33,
   "id": "f9dda3bc-f0aa-4f76-8e8f-c060a653ef15",
   "metadata": {},
   "outputs": [
    {
     "ename": "ERROR",
     "evalue": "Error in parse(text = x, srcfile = src): <text>:1:9: unexpected symbol\n1: Meaning of\n            ^\n",
     "output_type": "error",
     "traceback": [
      "Error in parse(text = x, srcfile = src): <text>:1:9: unexpected symbol\n1: Meaning of\n            ^\nTraceback:\n"
     ]
    }
   ],
   "source": [
    "Meaning of Column Names \n",
    "%- Recipientgender - Male - 1, Female - 0,\n",
    "%- Stemcellsource - Source of hematopoietic stem cells (Peripheral blood - 1, Bone marrow - 0),\n",
    "%- Donorage - Age of the donor at the time of hematopoietic stem cells apheresis\n",
    "%- Donorage35 - Donor age <35 - 0, Donor age >=35 - 1\n",
    "%- IIIV - Development of acute graft versus host disease stage II or III or IV (Yes - 1, No - 0),\n",
    "%- Gendermatch - Compatibility of the donor and recipient according to their gender (Female to Male - 1, Other - 0),\n",
    "%- DonorABO - ABO blood group of the donor of hematopoietic stem cells (0 - 0, 1, A, B=-1, AB=2),\n",
    "%- RecipientABO - ABO blood group of the recipient of hematopoietic stem cells (0 - 0, 1, A, B=-1, AB=2),\n",
    "%- RecipientRh - Presence of the Rh factor on recipient s red blood cells ('+' - 1, '-' - 0),\n",
    "%- ABOMatch - Compatibility of the donor and the recipient of hematopoietic stem cells according to ABO blood group (matched - 1, mismatched - 1)\n",
    "%- CMVstatus - Serological compatibility of the donor and the recipient of hematopoietic stem cells according to cytomegalovirus\n",
    "  infection prior to transplantation (the higher the value the lower the compatibility)\n",
    "%- RecipientCMV - Presence of cytomegalovirus infection in the donor of hematopoietic stem cells prior to transplantation (presence - 1, absence - 0)\n",
    "%- Disease - Type of disease (ALL,AML,chronic,nonmalignant,lymphoma)\n",
    "%- Riskgroup - High risk - 1, Low risk - 0,\n",
    "%- Txpostrelapse - The second bone marrow transplantation after relapse (No - 0; Yes - 1),\n",
    "%- Diseasegroup - Type of disease (malignant - 1, nonmalignant - 0), \n",
    "%- HLAmatch - Compatibility of antigens of the main histocompatibility complex of the donor and the recipient of hematopoietic stem cells\n",
    "$  according to ALL international BFM SCT 2008 criteria (10/10 - 0, 9/10 - 1, 8/10 - 2, 7/10 - 3 (allele/antigens)),\n",
    "%- HLAmismatch - HLA matched - 0, HL mismatched - 1,\n",
    "%- Antigen - In how many anigens there is difference beetwen the donor nad the recipient (-1 - no differences, 0 - one difference,1 (2) - two (three) diffences)\n",
    "%- Allel - In how many allele there is difference beetwen the donor nad the recipient {-1 no differences,0 - one difference, 1 (2) (3) - two, (tree, four) differences)\n",
    "%- HLAgrI - The differecne type beetwien the donor and the recipient (HLA mateched - 0,the difference is in only one antigen - 1,\n",
    "  the difference is only in one allel - 2, the difference is only in DRB1 cell - 3, two differences (two allele or two antignes) - 4,\n",
    "  two differences (two allele or two antignes) - 5),\n",
    "%- Recipientage - Age of the recipient of hematopoietic stem cells at the time of transplantation,\n",
    "%- Recipientage10 - Recipient age <10 - 0, Recipient age>=10 - 1,\n",
    "%- Recipientageint - Recipient age in (0,5] - 0, (5, 10] - 1, (10, 20] - 2,\n",
    "%- Relapse - Reoccurrence of the disease (No - 0, Yes - 1),\n",
    "%- aGvHDIIIIV - Development of acute graft versus host disease stage III or IV (Yes - 0, No - 1)\n",
    "%- extcGvHD - Development of extensive chronic graft versus host disease (Yes - 0, No - 1)\n",
    "%- CD34kgx10d6 - CD34+ cell dose per kg of recipient body weight (10^6/kg)\n",
    "%- CD3dCD34 - CD3+ cell to CD34+ cell ratio\n",
    "%- CD3dkgx10d8 - CD3+ cell dose per kg of recipient body weight (10^8/kg)\n",
    "%- Rbodymass - Body mass of the recipient of hematopoietic stem cells at the time of transplantation,\n",
    "%- ANCrecovery - Time to neutrophils recovery defined as neutrophils count >0.5 x 10^9/L \n",
    "%- PLTrecovery - Time to platelet recovery defined as platelet count >50000/mm3,\n",
    "%- time_to_aGvHD_III_IV - Time to development of acute graft versus host disease stage III or IV\n",
    "%- survival_time numeric\n",
    "%- survival_status"
   ]
  },
  {
   "cell_type": "code",
   "execution_count": 39,
   "id": "491d8013-67b1-4f45-ad10-96a94739c123",
   "metadata": {},
   "outputs": [
    {
     "ename": "ERROR",
     "evalue": "\u001b[1m\u001b[33mError\u001b[39m in \u001b[1m\u001b[1m`select()`:\u001b[22m\n\u001b[33m!\u001b[39m Can't subset columns that don't exist.\n\u001b[31m✖\u001b[39m Column `donor.age` doesn't exist.\n",
     "output_type": "error",
     "traceback": [
      "\u001b[1m\u001b[33mError\u001b[39m in \u001b[1m\u001b[1m`select()`:\u001b[22m\n\u001b[33m!\u001b[39m Can't subset columns that don't exist.\n\u001b[31m✖\u001b[39m Column `donor.age` doesn't exist.\nTraceback:\n",
      "1. select(bone_marrow_transplant_data, donor.age, CMVstatus, RecipientCMV, \n .     HLAmatch, Antigen, Allel, HLAgrI, Recipientage, Relapse, \n .     Rbodymass, ANCrecovery, PLTrecovery)",
      "2. select.data.frame(bone_marrow_transplant_data, donor.age, CMVstatus, \n .     RecipientCMV, HLAmatch, Antigen, Allel, HLAgrI, Recipientage, \n .     Relapse, Rbodymass, ANCrecovery, PLTrecovery)",
      "3. tidyselect_fix_call(tidyselect::eval_select(expr(c(...)), .data), \n .     call = error_call)",
      "4. withCallingHandlers(expr, error = function(cnd) {\n .     cnd$call <- call\n .     cnd$parent <- NULL\n .     cnd_signal(cnd)\n . })",
      "5. tidyselect::eval_select(expr(c(...)), .data)",
      "6. eval_select_impl(data, names(data), as_quosure(expr, env), include = include, \n .     exclude = exclude, strict = strict, name_spec = name_spec, \n .     allow_rename = allow_rename, error_call = error_call, )",
      "7. with_subscript_errors(vars_select_eval(vars, expr, strict = strict, \n .     data = x, name_spec = name_spec, uniquely_named = uniquely_named, \n .     allow_rename = allow_rename, type = type, error_call = error_call), \n .     type = type)",
      "8. tryCatch(with_entraced_errors(expr), vctrs_error_subscript = function(cnd) {\n .     cnd$subscript_action <- subscript_action(type)\n .     cnd$subscript_elt <- \"column\"\n .     cnd_signal(cnd)\n . })",
      "9. tryCatchList(expr, classes, parentenv, handlers)",
      "10. tryCatchOne(expr, names, parentenv, handlers[[1L]])",
      "11. value[[3L]](cond)",
      "12. cnd_signal(cnd)",
      "13. signal_abort(cnd)",
      "14. signalCondition(cnd)",
      "15. (function (cnd) \n  . {\n  .     cnd$call <- call\n  .     cnd$parent <- NULL\n  .     cnd_signal(cnd)\n  . })(structure(list(message = \"\", trace = structure(list(call = list(\n  .     IRkernel::main(), kernel$run(), handle_shell(), executor$execute(msg), \n  .     tryCatch(evaluate(request$content$code, envir = .GlobalEnv, \n  .         output_handler = oh, stop_on_error = 1L), interrupt = function(cond) {\n  .         log_debug(\"Interrupt during execution\")\n  .         interrupted <<- TRUE\n  .     }, error = .self$handle_error), tryCatchList(expr, classes, \n  .         parentenv, handlers), tryCatchOne(tryCatchList(expr, \n  .         names[-nh], parentenv, handlers[-nh]), names[nh], parentenv, \n  .         handlers[[nh]]), doTryCatch(return(expr), name, parentenv, \n  .         handler), tryCatchList(expr, names[-nh], parentenv, handlers[-nh]), \n  .     tryCatchOne(expr, names, parentenv, handlers[[1L]]), doTryCatch(return(expr), \n  .         name, parentenv, handler), evaluate(request$content$code, \n  .         envir = .GlobalEnv, output_handler = oh, stop_on_error = 1L), \n  .     evaluate_call(expr, parsed$src[[i]], envir = envir, enclos = enclos, \n  .         debug = debug, last = i == length(out), use_try = stop_on_error != \n  .             2L, keep_warning = keep_warning, keep_message = keep_message, \n  .         output_handler = output_handler, include_timing = include_timing), \n  .     timing_fn(handle(ev <- withCallingHandlers(withVisible(eval_with_user_handlers(expr, \n  .         envir, enclos, user_handlers)), warning = wHandler, error = eHandler, \n  .         message = mHandler))), handle(ev <- withCallingHandlers(withVisible(eval_with_user_handlers(expr, \n  .         envir, enclos, user_handlers)), warning = wHandler, error = eHandler, \n  .         message = mHandler)), try(f, silent = TRUE), tryCatch(expr, \n  .         error = function(e) {\n  .             call <- conditionCall(e)\n  .             if (!is.null(call)) {\n  .                 if (identical(call[[1L]], quote(doTryCatch))) \n  .                   call <- sys.call(-4L)\n  .                 dcall <- deparse(call, nlines = 1L)\n  .                 prefix <- paste(\"Error in\", dcall, \": \")\n  .                 LONG <- 75L\n  .                 sm <- strsplit(conditionMessage(e), \"\\n\")[[1L]]\n  .                 w <- 14L + nchar(dcall, type = \"w\") + nchar(sm[1L], \n  .                   type = \"w\")\n  .                 if (is.na(w)) \n  .                   w <- 14L + nchar(dcall, type = \"b\") + nchar(sm[1L], \n  .                     type = \"b\")\n  .                 if (w > LONG) \n  .                   prefix <- paste0(prefix, \"\\n  \")\n  .             }\n  .             else prefix <- \"Error : \"\n  .             msg <- paste0(prefix, conditionMessage(e), \"\\n\")\n  .             .Internal(seterrmessage(msg[1L]))\n  .             if (!silent && isTRUE(getOption(\"show.error.messages\"))) {\n  .                 cat(msg, file = outFile)\n  .                 .Internal(printDeferredWarnings())\n  .             }\n  .             invisible(structure(msg, class = \"try-error\", condition = e))\n  .         }), tryCatchList(expr, classes, parentenv, handlers), \n  .     tryCatchOne(expr, names, parentenv, handlers[[1L]]), doTryCatch(return(expr), \n  .         name, parentenv, handler), withCallingHandlers(withVisible(eval_with_user_handlers(expr, \n  .         envir, enclos, user_handlers)), warning = wHandler, error = eHandler, \n  .         message = mHandler), withVisible(eval_with_user_handlers(expr, \n  .         envir, enclos, user_handlers)), eval_with_user_handlers(expr, \n  .         envir, enclos, user_handlers), eval(expr, envir, enclos), \n  .     eval(expr, envir, enclos), select(bone_marrow_transplant_data, \n  .         donor.age, CMVstatus, RecipientCMV, HLAmatch, Antigen, \n  .         Allel, HLAgrI, Recipientage, Relapse, Rbodymass, ANCrecovery, \n  .         PLTrecovery), select.data.frame(bone_marrow_transplant_data, \n  .         donor.age, CMVstatus, RecipientCMV, HLAmatch, Antigen, \n  .         Allel, HLAgrI, Recipientage, Relapse, Rbodymass, ANCrecovery, \n  .         PLTrecovery), tidyselect_fix_call(tidyselect::eval_select(expr(c(...)), \n  .         .data), call = error_call), withCallingHandlers(expr, \n  .         error = function(cnd) {\n  .             cnd$call <- call\n  .             cnd$parent <- NULL\n  .             cnd_signal(cnd)\n  .         }), tidyselect::eval_select(expr(c(...)), .data), eval_select_impl(data, \n  .         names(data), as_quosure(expr, env), include = include, \n  .         exclude = exclude, strict = strict, name_spec = name_spec, \n  .         allow_rename = allow_rename, error_call = error_call, \n  .         ), with_subscript_errors(vars_select_eval(vars, expr, \n  .         strict = strict, data = x, name_spec = name_spec, uniquely_named = uniquely_named, \n  .         allow_rename = allow_rename, type = type, error_call = error_call), \n  .         type = type), tryCatch(with_entraced_errors(expr), vctrs_error_subscript = function(cnd) {\n  .         cnd$subscript_action <- subscript_action(type)\n  .         cnd$subscript_elt <- \"column\"\n  .         cnd_signal(cnd)\n  .     }), tryCatchList(expr, classes, parentenv, handlers), tryCatchOne(expr, \n  .         names, parentenv, handlers[[1L]]), doTryCatch(return(expr), \n  .         name, parentenv, handler), with_entraced_errors(expr), \n  .     try_fetch(expr, simpleError = function(cnd) {\n  .         abort(conditionMessage(cnd), call = conditionCall(cnd))\n  .     }), withCallingHandlers(expr, simpleError = function(cnd) {\n  .         {\n  .             .__handler_frame__. <- TRUE\n  .             .__setup_frame__. <- frame\n  .         }\n  .         out <- handlers[[1L]](cnd)\n  .         if (!inherits(out, \"rlang_zap\")) \n  .             throw(out)\n  .     }), vars_select_eval(vars, expr, strict = strict, data = x, \n  .         name_spec = name_spec, uniquely_named = uniquely_named, \n  .         allow_rename = allow_rename, type = type, error_call = error_call), \n  .     walk_data_tree(expr, data_mask, context_mask, error_call), \n  .     eval_c(expr, data_mask, context_mask), reduce_sels(node, \n  .         data_mask, context_mask, init = init), walk_data_tree(new, \n  .         data_mask, context_mask), as_indices_sel_impl(out, vars = vars, \n  .         strict = strict, data = data, call = error_call), as_indices_impl(x, \n  .         vars, call = call, strict = strict), chr_as_locations(x, \n  .         vars, call = call), vctrs::vec_as_location(x, n = length(vars), \n  .         names = vars), `<fn>`(), stop_subscript_oob(i = i, subscript_type = subscript_type, \n  .         names = names, subscript_action = subscript_action, subscript_arg = subscript_arg, \n  .         call = call), stop_subscript(class = \"vctrs_error_subscript_oob\", \n  .         i = i, subscript_type = subscript_type, ..., call = call), \n  .     abort(class = c(class, \"vctrs_error_subscript\"), i = i, ..., \n  .         call = vctrs_error_call(call))), parent = c(0L, 1L, 2L, \n  . 3L, 4L, 5L, 6L, 7L, 6L, 9L, 10L, 4L, 12L, 13L, 13L, 15L, 16L, \n  . 17L, 18L, 19L, 13L, 13L, 13L, 23L, 24L, 0L, 0L, 27L, 28L, 27L, \n  . 30L, 31L, 32L, 33L, 34L, 35L, 32L, 37L, 38L, 31L, 40L, 41L, 42L, \n  . 43L, 44L, 45L, 46L, 47L, 48L, 49L, 50L, 51L), visible = c(TRUE, \n  . TRUE, TRUE, TRUE, TRUE, TRUE, TRUE, TRUE, TRUE, TRUE, TRUE, TRUE, \n  . TRUE, TRUE, TRUE, TRUE, TRUE, TRUE, TRUE, TRUE, TRUE, TRUE, TRUE, \n  . TRUE, TRUE, TRUE, TRUE, TRUE, TRUE, TRUE, TRUE, TRUE, TRUE, TRUE, \n  . TRUE, TRUE, TRUE, TRUE, TRUE, TRUE, TRUE, TRUE, TRUE, TRUE, TRUE, \n  . TRUE, TRUE, FALSE, FALSE, FALSE, FALSE, FALSE), namespace = c(\"IRkernel\", \n  . NA, \"IRkernel\", NA, \"base\", \"base\", \"base\", \"base\", \"base\", \"base\", \n  . \"base\", \"evaluate\", \"evaluate\", \"evaluate\", \"evaluate\", \"base\", \n  . \"base\", \"base\", \"base\", \"base\", \"base\", \"base\", \"evaluate\", \"base\", \n  . \"base\", \"dplyr\", \"dplyr\", \"dplyr\", \"base\", \"tidyselect\", \"tidyselect\", \n  . \"tidyselect\", \"base\", \"base\", \"base\", \"base\", \"tidyselect\", \"rlang\", \n  . \"base\", \"tidyselect\", \"tidyselect\", \"tidyselect\", \"tidyselect\", \n  . \"tidyselect\", \"tidyselect\", \"tidyselect\", \"tidyselect\", \"vctrs\", \n  . \"vctrs\", \"vctrs\", \"vctrs\", \"rlang\"), scope = c(\"::\", NA, \"local\", \n  . NA, \"::\", \"local\", \"local\", \"local\", \"local\", \"local\", \"local\", \n  . \"::\", \":::\", \"local\", \"local\", \"::\", \"::\", \"local\", \"local\", \n  . \"local\", \"::\", \"::\", \":::\", \"::\", \"::\", \"::\", \":::\", \":::\", \"::\", \n  . \"::\", \":::\", \":::\", \"::\", \"local\", \"local\", \"local\", \":::\", \"::\", \n  . \"::\", \":::\", \":::\", \":::\", \":::\", \":::\", \":::\", \":::\", \":::\", \n  . \"::\", \"local\", \":::\", \":::\", \"::\"), error_frame = c(FALSE, FALSE, \n  . FALSE, FALSE, FALSE, FALSE, FALSE, FALSE, FALSE, FALSE, FALSE, \n  . FALSE, FALSE, FALSE, FALSE, FALSE, FALSE, FALSE, FALSE, FALSE, \n  . FALSE, FALSE, FALSE, FALSE, FALSE, FALSE, FALSE, FALSE, FALSE, \n  . FALSE, FALSE, FALSE, FALSE, FALSE, FALSE, FALSE, FALSE, FALSE, \n  . FALSE, FALSE, FALSE, FALSE, FALSE, FALSE, FALSE, FALSE, TRUE, \n  . FALSE, FALSE, FALSE, FALSE, FALSE)), row.names = c(NA, -52L), version = 2L, class = c(\"rlang_trace\", \n  . \"rlib_trace\", \"tbl\", \"data.frame\")), parent = NULL, i = \"donor.age\", \n  .     subscript_type = \"character\", names = c(\"X.Recipientgender..1.0.\", \n  .     \"Stemcellsource..1.0..\", \"Donorage.numeric\", \"Donorage35..0.1.\", \n  .     \"IIIV..1.0.\", \"Gendermatch..0.1.\", \"DonorABO..1..1.2.0.\", \n  .     \"RecipientABO..1..1.2.0.\", \"RecipientRh..1.0.\", \"ABOmatch..0.1.\", \n  .     \"CMVstatus..3.2.1.0.\", \"DonorCMV..1.0.\", \"RecipientCMV..1.0.\", \n  .     \"Disease..ALL.AML.chronic.nonmalignant.lymphoma.\", \"Riskgroup..1.0.\", \n  .     \"Txpostrelapse..0.1.\", \"Diseasegroup..1.0.\", \"HLAmatch..0.1.3.2.\", \n  .     \"HLAmismatch..0.1.\", \"Antigen...1.1.0.2.\", \"Alel...1.0.2.1.3.\", \n  .     \"HLAgrI..0.1.7.3.2.4.5.\", \"Recipientage.numeric\", \"Recipientage10..0.1.\", \n  .     \"Recipientageint..0.1.2.\", \"Relapse..0.1.\", \"aGvHDIIIIV..0.1.\", \n  .     \"extcGvHD..1.0.\", \"CD34kgx10d6.numeric\", \"CD3dCD34.numeric\", \n  .     \"CD3dkgx10d8.numeric\", \"Rbodymass.numeric\", \"ANCrecovery.numeric\", \n  .     \"PLTrecovery.numeric\", \"time_to_aGvHD_III_IV.numeric\", \"survival_time.numeric\", \n  .     \"survival_status.numeric\"), subscript_action = \"subset\", \n  .     subscript_arg = \"x\", call = chr_as_locations(x, vars, call = call), \n  .     subscript_elt = \"column\"), class = c(\"vctrs_error_subscript_oob\", \n  . \"vctrs_error_subscript\", \"rlang_error\", \"error\", \"condition\")))",
      "16. cnd_signal(cnd)",
      "17. signal_abort(cnd)"
     ]
    }
   ],
   "source": [
    "clean_transplant_data <- bone_marrow_transplant_data |>\n",
    "    select(donor.age, CMVstatus, RecipientCMV, HLAmatch, Antigen, Allel, HLAgrI, Recipientage, Relapse, Rbodymass, ANCrecovery, PLTrecovery)\n",
    "clean_transplant_data"
   ]
  },
  {
   "cell_type": "code",
   "execution_count": null,
   "id": "8c332055-1e25-4f86-94f6-1aa3c3947118",
   "metadata": {},
   "outputs": [],
   "source": []
  }
 ],
 "metadata": {
  "kernelspec": {
   "display_name": "R",
   "language": "R",
   "name": "ir"
  },
  "language_info": {
   "codemirror_mode": "r",
   "file_extension": ".r",
   "mimetype": "text/x-r-source",
   "name": "R",
   "pygments_lexer": "r",
   "version": "4.1.3"
  }
 },
 "nbformat": 4,
 "nbformat_minor": 5
}

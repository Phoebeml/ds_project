{
 "cells": [
  {
   "cell_type": "markdown",
   "id": "f0871bdb-5861-4ac1-bb75-cd9b2fe74b91",
   "metadata": {},
   "source": [
    "Bone Marrow Transplants in Children \n",
    "=====\n",
    "A Classification Analysis\n",
    "----\n",
    "**Source:** Survival Prediction of Children Undergoing Hematopoietic Stem Cell Transplantation \n",
    "        doi:https://www.ncbi.nlm.nih.gov/pmc/articles/PMC9527434/\n",
    "        https://archive.ics.uci.edu/ml/datasets/Bone+marrow+transplant%3A+children"
   ]
  },
  {
   "cell_type": "markdown",
   "id": "c5aab6e7-23d5-4fb1-985b-42aba3d63c58",
   "metadata": {},
   "source": [
    "Introduction\n",
    "----\n",
    "\n",
    "Bone Marrow is the tissue that is located inside of our bones and is responsible for creating red blood cells, and our immune cells (including both innate and adaptive immune cells). Because of its importance in normal human everyday function, bone marrow disorders are an increasingly common and often debilitating or deadly diagnosis for patients to live with. However, bone marrow transplants are a surgical treatment which replaces old dysfunctional bone marrow (of the recipient) with the bone marrow of a donor. This allow the recipient to recover from their previous disease, dependent on a lack of life threatening side effects and successful completion of the procedure. Key factors that might influence the success of a bone marrow transplant include age, body mass, HLA mismatch, and genetics. Key indicators of the success of the transplant also include the time it takes for neutrophil (immune cells) and red blood cells to recover. Using the Bone marrow transplant: children Data Set we aim to answer will a patient, given key information relating to their bone marrow transplant procedure, undergo a relapse? This dataset contains information on all the key factors relating to the success of a transplant listed above as well as the key indicators and transplant success."
   ]
  },
  {
   "cell_type": "code",
   "execution_count": 20,
   "id": "735e4582-6c7d-4a25-9888-d0f9b8f1b504",
   "metadata": {},
   "outputs": [],
   "source": [
    "library(tidyverse)\n",
    "library(tidymodels)\n",
    "library(repr) \n",
    "set.seed(69)"
   ]
  },
  {
   "cell_type": "markdown",
   "id": "7cf70c8b-86c1-4514-8120-e10fbdb61d60",
   "metadata": {},
   "source": [
    "Step 1: Read in the Data\n",
    "---"
   ]
  },
  {
   "cell_type": "code",
   "execution_count": 21,
   "id": "65d7afe8-a732-424d-8a37-76ecddd3ad8c",
   "metadata": {},
   "outputs": [
    {
     "data": {
      "text/html": [
       "<table class=\"dataframe\">\n",
       "<caption>A data.frame: 6 × 37</caption>\n",
       "<thead>\n",
       "\t<tr><th></th><th scope=col>X.Recipientgender..1.0.</th><th scope=col>Stemcellsource</th><th scope=col>donor.age</th><th scope=col>Donorage35</th><th scope=col>IIIV</th><th scope=col>Gendermatch</th><th scope=col>DonorABO</th><th scope=col>RecipientABO..1..1.2.0.</th><th scope=col>RecipientRh..1.0.</th><th scope=col>ABOmatch..0.1.</th><th scope=col>⋯</th><th scope=col>extcGvHD..1.0.</th><th scope=col>CD34kgx10d6_numeric</th><th scope=col>CD3dCD34_numeric</th><th scope=col>CD3dkgx10d8_numeric</th><th scope=col>Rbodymass</th><th scope=col>ANCrecovery</th><th scope=col>PLTrecovery</th><th scope=col>time_to_aGvHD_III_IV.numeric</th><th scope=col>survival_time.numeric</th><th scope=col>survival_status.numeric</th></tr>\n",
       "\t<tr><th></th><th scope=col>&lt;int&gt;</th><th scope=col>&lt;int&gt;</th><th scope=col>&lt;dbl&gt;</th><th scope=col>&lt;int&gt;</th><th scope=col>&lt;int&gt;</th><th scope=col>&lt;int&gt;</th><th scope=col>&lt;int&gt;</th><th scope=col>&lt;chr&gt;</th><th scope=col>&lt;chr&gt;</th><th scope=col>&lt;chr&gt;</th><th scope=col>⋯</th><th scope=col>&lt;chr&gt;</th><th scope=col>&lt;dbl&gt;</th><th scope=col>&lt;chr&gt;</th><th scope=col>&lt;chr&gt;</th><th scope=col>&lt;chr&gt;</th><th scope=col>&lt;int&gt;</th><th scope=col>&lt;int&gt;</th><th scope=col>&lt;int&gt;</th><th scope=col>&lt;int&gt;</th><th scope=col>&lt;int&gt;</th></tr>\n",
       "</thead>\n",
       "<tbody>\n",
       "\t<tr><th scope=row>1</th><td>1</td><td>0</td><td>23.34247</td><td>0</td><td>1</td><td>0</td><td>-1</td><td>-1</td><td>1</td><td>0</td><td>⋯</td><td>1</td><td> 4.50</td><td>11.078295</td><td>0.41 </td><td>20.6</td><td>16</td><td>37</td><td>1000000</td><td> 163</td><td>1</td></tr>\n",
       "\t<tr><th scope=row>2</th><td>1</td><td>0</td><td>26.39452</td><td>0</td><td>1</td><td>0</td><td>-1</td><td>-1</td><td>1</td><td>0</td><td>⋯</td><td>1</td><td> 7.94</td><td>19.01323 </td><td>0.42 </td><td>23.4</td><td>23</td><td>20</td><td>1000000</td><td> 435</td><td>1</td></tr>\n",
       "\t<tr><th scope=row>3</th><td>0</td><td>0</td><td>39.68493</td><td>1</td><td>1</td><td>0</td><td> 1</td><td>2 </td><td>1</td><td>1</td><td>⋯</td><td>?</td><td> 4.25</td><td>29.481647</td><td>0.14 </td><td>50  </td><td>23</td><td>29</td><td>     19</td><td>  53</td><td>1</td></tr>\n",
       "\t<tr><th scope=row>4</th><td>0</td><td>1</td><td>33.35890</td><td>0</td><td>0</td><td>0</td><td> 1</td><td>2 </td><td>0</td><td>1</td><td>⋯</td><td>1</td><td>51.85</td><td>3.972255 </td><td>13.05</td><td>9   </td><td>14</td><td>14</td><td>1000000</td><td>2043</td><td>0</td></tr>\n",
       "\t<tr><th scope=row>5</th><td>1</td><td>0</td><td>27.39178</td><td>0</td><td>0</td><td>0</td><td> 2</td><td>0 </td><td>1</td><td>1</td><td>⋯</td><td>1</td><td> 3.27</td><td>8.412758 </td><td>0.39 </td><td>40  </td><td>16</td><td>70</td><td>1000000</td><td>2800</td><td>0</td></tr>\n",
       "\t<tr><th scope=row>6</th><td>0</td><td>1</td><td>34.52055</td><td>0</td><td>1</td><td>0</td><td> 0</td><td>1 </td><td>0</td><td>1</td><td>⋯</td><td>?</td><td>17.78</td><td>2.406248 </td><td>7.39 </td><td>51  </td><td>17</td><td>29</td><td>     18</td><td>  41</td><td>1</td></tr>\n",
       "</tbody>\n",
       "</table>\n"
      ],
      "text/latex": [
       "A data.frame: 6 × 37\n",
       "\\begin{tabular}{r|lllllllllllllllllllll}\n",
       "  & X.Recipientgender..1.0. & Stemcellsource & donor.age & Donorage35 & IIIV & Gendermatch & DonorABO & RecipientABO..1..1.2.0. & RecipientRh..1.0. & ABOmatch..0.1. & ⋯ & extcGvHD..1.0. & CD34kgx10d6\\_numeric & CD3dCD34\\_numeric & CD3dkgx10d8\\_numeric & Rbodymass & ANCrecovery & PLTrecovery & time\\_to\\_aGvHD\\_III\\_IV.numeric & survival\\_time.numeric & survival\\_status.numeric\\\\\n",
       "  & <int> & <int> & <dbl> & <int> & <int> & <int> & <int> & <chr> & <chr> & <chr> & ⋯ & <chr> & <dbl> & <chr> & <chr> & <chr> & <int> & <int> & <int> & <int> & <int>\\\\\n",
       "\\hline\n",
       "\t1 & 1 & 0 & 23.34247 & 0 & 1 & 0 & -1 & -1 & 1 & 0 & ⋯ & 1 &  4.50 & 11.078295 & 0.41  & 20.6 & 16 & 37 & 1000000 &  163 & 1\\\\\n",
       "\t2 & 1 & 0 & 26.39452 & 0 & 1 & 0 & -1 & -1 & 1 & 0 & ⋯ & 1 &  7.94 & 19.01323  & 0.42  & 23.4 & 23 & 20 & 1000000 &  435 & 1\\\\\n",
       "\t3 & 0 & 0 & 39.68493 & 1 & 1 & 0 &  1 & 2  & 1 & 1 & ⋯ & ? &  4.25 & 29.481647 & 0.14  & 50   & 23 & 29 &      19 &   53 & 1\\\\\n",
       "\t4 & 0 & 1 & 33.35890 & 0 & 0 & 0 &  1 & 2  & 0 & 1 & ⋯ & 1 & 51.85 & 3.972255  & 13.05 & 9    & 14 & 14 & 1000000 & 2043 & 0\\\\\n",
       "\t5 & 1 & 0 & 27.39178 & 0 & 0 & 0 &  2 & 0  & 1 & 1 & ⋯ & 1 &  3.27 & 8.412758  & 0.39  & 40   & 16 & 70 & 1000000 & 2800 & 0\\\\\n",
       "\t6 & 0 & 1 & 34.52055 & 0 & 1 & 0 &  0 & 1  & 0 & 1 & ⋯ & ? & 17.78 & 2.406248  & 7.39  & 51   & 17 & 29 &      18 &   41 & 1\\\\\n",
       "\\end{tabular}\n"
      ],
      "text/markdown": [
       "\n",
       "A data.frame: 6 × 37\n",
       "\n",
       "| <!--/--> | X.Recipientgender..1.0. &lt;int&gt; | Stemcellsource &lt;int&gt; | donor.age &lt;dbl&gt; | Donorage35 &lt;int&gt; | IIIV &lt;int&gt; | Gendermatch &lt;int&gt; | DonorABO &lt;int&gt; | RecipientABO..1..1.2.0. &lt;chr&gt; | RecipientRh..1.0. &lt;chr&gt; | ABOmatch..0.1. &lt;chr&gt; | ⋯ ⋯ | extcGvHD..1.0. &lt;chr&gt; | CD34kgx10d6_numeric &lt;dbl&gt; | CD3dCD34_numeric &lt;chr&gt; | CD3dkgx10d8_numeric &lt;chr&gt; | Rbodymass &lt;chr&gt; | ANCrecovery &lt;int&gt; | PLTrecovery &lt;int&gt; | time_to_aGvHD_III_IV.numeric &lt;int&gt; | survival_time.numeric &lt;int&gt; | survival_status.numeric &lt;int&gt; |\n",
       "|---|---|---|---|---|---|---|---|---|---|---|---|---|---|---|---|---|---|---|---|---|---|\n",
       "| 1 | 1 | 0 | 23.34247 | 0 | 1 | 0 | -1 | -1 | 1 | 0 | ⋯ | 1 |  4.50 | 11.078295 | 0.41  | 20.6 | 16 | 37 | 1000000 |  163 | 1 |\n",
       "| 2 | 1 | 0 | 26.39452 | 0 | 1 | 0 | -1 | -1 | 1 | 0 | ⋯ | 1 |  7.94 | 19.01323  | 0.42  | 23.4 | 23 | 20 | 1000000 |  435 | 1 |\n",
       "| 3 | 0 | 0 | 39.68493 | 1 | 1 | 0 |  1 | 2  | 1 | 1 | ⋯ | ? |  4.25 | 29.481647 | 0.14  | 50   | 23 | 29 |      19 |   53 | 1 |\n",
       "| 4 | 0 | 1 | 33.35890 | 0 | 0 | 0 |  1 | 2  | 0 | 1 | ⋯ | 1 | 51.85 | 3.972255  | 13.05 | 9    | 14 | 14 | 1000000 | 2043 | 0 |\n",
       "| 5 | 1 | 0 | 27.39178 | 0 | 0 | 0 |  2 | 0  | 1 | 1 | ⋯ | 1 |  3.27 | 8.412758  | 0.39  | 40   | 16 | 70 | 1000000 | 2800 | 0 |\n",
       "| 6 | 0 | 1 | 34.52055 | 0 | 1 | 0 |  0 | 1  | 0 | 1 | ⋯ | ? | 17.78 | 2.406248  | 7.39  | 51   | 17 | 29 |      18 |   41 | 1 |\n",
       "\n"
      ],
      "text/plain": [
       "  X.Recipientgender..1.0. Stemcellsource donor.age Donorage35 IIIV Gendermatch\n",
       "1 1                       0              23.34247  0          1    0          \n",
       "2 1                       0              26.39452  0          1    0          \n",
       "3 0                       0              39.68493  1          1    0          \n",
       "4 0                       1              33.35890  0          0    0          \n",
       "5 1                       0              27.39178  0          0    0          \n",
       "6 0                       1              34.52055  0          1    0          \n",
       "  DonorABO RecipientABO..1..1.2.0. RecipientRh..1.0. ABOmatch..0.1. ⋯\n",
       "1 -1       -1                      1                 0              ⋯\n",
       "2 -1       -1                      1                 0              ⋯\n",
       "3  1       2                       1                 1              ⋯\n",
       "4  1       2                       0                 1              ⋯\n",
       "5  2       0                       1                 1              ⋯\n",
       "6  0       1                       0                 1              ⋯\n",
       "  extcGvHD..1.0. CD34kgx10d6_numeric CD3dCD34_numeric CD3dkgx10d8_numeric\n",
       "1 1               4.50               11.078295        0.41               \n",
       "2 1               7.94               19.01323         0.42               \n",
       "3 ?               4.25               29.481647        0.14               \n",
       "4 1              51.85               3.972255         13.05              \n",
       "5 1               3.27               8.412758         0.39               \n",
       "6 ?              17.78               2.406248         7.39               \n",
       "  Rbodymass ANCrecovery PLTrecovery time_to_aGvHD_III_IV.numeric\n",
       "1 20.6      16          37          1000000                     \n",
       "2 23.4      23          20          1000000                     \n",
       "3 50        23          29               19                     \n",
       "4 9         14          14          1000000                     \n",
       "5 40        16          70          1000000                     \n",
       "6 51        17          29               18                     \n",
       "  survival_time.numeric survival_status.numeric\n",
       "1  163                  1                      \n",
       "2  435                  1                      \n",
       "3   53                  1                      \n",
       "4 2043                  0                      \n",
       "5 2800                  0                      \n",
       "6   41                  1                      "
      ]
     },
     "metadata": {},
     "output_type": "display_data"
    }
   ],
   "source": [
    "\n",
    "bone_marrow_transplant_data <- read.table(\"https://archive.ics.uci.edu/ml/machine-learning-databases/00565/bone-marrow.arff\", \n",
    "                                          skip =109, sep=\",\", col.names = c(\" Recipientgender {1,0}\", \n",
    "\"Stemcellsource\",\"donor.age\",\"Donorage35\",\"IIIV\",\"Gendermatch\",\"DonorABO\",\"RecipientABO {1,-1,2,0}\" ,\"RecipientRh {1,0}\" ,\n",
    "\"ABOmatch {0,1}\" ,\"CMVstatus\" ,\"DonorCMV\" ,\"RecipientCMV\" ,\"Disease {ALL,AML,chronic,nonmalignant,lymphoma}\" ,\n",
    "\"Riskgroup {1,0}\" ,\"Txpostrelapse {0,1}\" ,\"Diseasegroup {1,0}\" ,\"HLAmatch\" ,\"HLAmismatch\" ,\"Antigen\" ,\"Allel\" ,\n",
    "\"HLAgrI\" ,\"Recipientage\" ,\"Recipientage10 {0,1}\" ,\"Recipientageint {0,1,2}\" ,\"Relapse\" ,\"aGvHDIIIIV {0,1}\" ,\"extcGvHD {1,0}\" ,\n",
    "\"CD34kgx10d6_numeric\" ,\"CD3dCD34_numeric\" ,\"CD3dkgx10d8_numeric\" ,\"Rbodymass\" ,\"ANCrecovery\" ,\"PLTrecovery\" ,\"time_to_aGvHD_III_IV numeric\" ,\n",
    "\"survival_time numeric\" ,\"survival_status numeric\"))\n",
    "\n",
    "head(bone_marrow_transplant_data)"
   ]
  },
  {
   "cell_type": "markdown",
   "id": "9c4fd252-4c51-45d1-b831-cb9c464a77e6",
   "metadata": {},
   "source": [
    "Step 2: Clean and Wrangle Data into Tidy Format (and choose which columns we need to use for analysis)\n",
    "-----\n"
   ]
  },
  {
   "cell_type": "markdown",
   "id": "9acc2cf2-4d7f-4fd6-a303-71ebcead761a",
   "metadata": {},
   "source": [
    "**Class that we are Prediciting**\n",
    "\n",
    "Relapse = Did the patient relapse (meaning did the disease reoccour after transplant) \n",
    "\n",
    "**Rational Behind Choosing These Variables**\n",
    "\n",
    "donor.age = The age of the donor has an impact on the health of the HPCs which can have an effect on the transplant sucesses and therefore the chance of relapse \n",
    "\n",
    "HLAmatch = MHC match between host and donor (low value is a better match so will support a better acceptance of the transplant)\n",
    "\n",
    "Antigen = in how many antigens there are differences between the host and donor (no differences at -1, larger numbers are more differences)\n",
    "\n",
    "Allel = in how many allels there are differences between the host and donor (no differences at -1, larger numbers are more differences)\n",
    "\n",
    "Recipientage = Age of the recipient of hematopoietic stem cells at the time of transplantation. \n",
    "\n",
    "Rbodymass = Body mass of the recipient of hematopoietic stem cells at the time of transplantation\n",
    "\n",
    "ANCrecovery = Time to neutrophils recovery defined as neutrophils count (per L) (note: this is important as neutrophils are derived from the myloid progenerators that are derived from the HPC cells that are included in bone marrow transplants)\n",
    "\n",
    "PLTrecovery = Time to platelet recovery defined as platelet count (per mm3)\n"
   ]
  },
  {
   "cell_type": "code",
   "execution_count": 22,
   "id": "491d8013-67b1-4f45-ad10-96a94739c123",
   "metadata": {},
   "outputs": [
    {
     "data": {
      "text/html": [
       "<table class=\"dataframe\">\n",
       "<caption>A data.frame: 6 × 9</caption>\n",
       "<thead>\n",
       "\t<tr><th></th><th scope=col>donor.age</th><th scope=col>HLAmatch</th><th scope=col>Antigen</th><th scope=col>Allel</th><th scope=col>Recipientage</th><th scope=col>Relapse</th><th scope=col>Rbodymass</th><th scope=col>ANCrecovery</th><th scope=col>PLTrecovery</th></tr>\n",
       "\t<tr><th></th><th scope=col>&lt;dbl&gt;</th><th scope=col>&lt;int&gt;</th><th scope=col>&lt;chr&gt;</th><th scope=col>&lt;chr&gt;</th><th scope=col>&lt;dbl&gt;</th><th scope=col>&lt;int&gt;</th><th scope=col>&lt;chr&gt;</th><th scope=col>&lt;int&gt;</th><th scope=col>&lt;int&gt;</th></tr>\n",
       "</thead>\n",
       "<tbody>\n",
       "\t<tr><th scope=row>1</th><td>23.34247</td><td>0</td><td>-1</td><td>-1</td><td> 4.0</td><td>1</td><td>20.6</td><td>16</td><td>37</td></tr>\n",
       "\t<tr><th scope=row>2</th><td>26.39452</td><td>0</td><td>-1</td><td>-1</td><td> 6.6</td><td>1</td><td>23.4</td><td>23</td><td>20</td></tr>\n",
       "\t<tr><th scope=row>3</th><td>39.68493</td><td>0</td><td>-1</td><td>-1</td><td>18.1</td><td>0</td><td>50  </td><td>23</td><td>29</td></tr>\n",
       "\t<tr><th scope=row>4</th><td>33.35890</td><td>1</td><td>1 </td><td>0 </td><td> 1.3</td><td>0</td><td>9   </td><td>14</td><td>14</td></tr>\n",
       "\t<tr><th scope=row>5</th><td>27.39178</td><td>0</td><td>-1</td><td>-1</td><td> 8.9</td><td>0</td><td>40  </td><td>16</td><td>70</td></tr>\n",
       "\t<tr><th scope=row>6</th><td>34.52055</td><td>0</td><td>-1</td><td>-1</td><td>14.4</td><td>0</td><td>51  </td><td>17</td><td>29</td></tr>\n",
       "</tbody>\n",
       "</table>\n"
      ],
      "text/latex": [
       "A data.frame: 6 × 9\n",
       "\\begin{tabular}{r|lllllllll}\n",
       "  & donor.age & HLAmatch & Antigen & Allel & Recipientage & Relapse & Rbodymass & ANCrecovery & PLTrecovery\\\\\n",
       "  & <dbl> & <int> & <chr> & <chr> & <dbl> & <int> & <chr> & <int> & <int>\\\\\n",
       "\\hline\n",
       "\t1 & 23.34247 & 0 & -1 & -1 &  4.0 & 1 & 20.6 & 16 & 37\\\\\n",
       "\t2 & 26.39452 & 0 & -1 & -1 &  6.6 & 1 & 23.4 & 23 & 20\\\\\n",
       "\t3 & 39.68493 & 0 & -1 & -1 & 18.1 & 0 & 50   & 23 & 29\\\\\n",
       "\t4 & 33.35890 & 1 & 1  & 0  &  1.3 & 0 & 9    & 14 & 14\\\\\n",
       "\t5 & 27.39178 & 0 & -1 & -1 &  8.9 & 0 & 40   & 16 & 70\\\\\n",
       "\t6 & 34.52055 & 0 & -1 & -1 & 14.4 & 0 & 51   & 17 & 29\\\\\n",
       "\\end{tabular}\n"
      ],
      "text/markdown": [
       "\n",
       "A data.frame: 6 × 9\n",
       "\n",
       "| <!--/--> | donor.age &lt;dbl&gt; | HLAmatch &lt;int&gt; | Antigen &lt;chr&gt; | Allel &lt;chr&gt; | Recipientage &lt;dbl&gt; | Relapse &lt;int&gt; | Rbodymass &lt;chr&gt; | ANCrecovery &lt;int&gt; | PLTrecovery &lt;int&gt; |\n",
       "|---|---|---|---|---|---|---|---|---|---|\n",
       "| 1 | 23.34247 | 0 | -1 | -1 |  4.0 | 1 | 20.6 | 16 | 37 |\n",
       "| 2 | 26.39452 | 0 | -1 | -1 |  6.6 | 1 | 23.4 | 23 | 20 |\n",
       "| 3 | 39.68493 | 0 | -1 | -1 | 18.1 | 0 | 50   | 23 | 29 |\n",
       "| 4 | 33.35890 | 1 | 1  | 0  |  1.3 | 0 | 9    | 14 | 14 |\n",
       "| 5 | 27.39178 | 0 | -1 | -1 |  8.9 | 0 | 40   | 16 | 70 |\n",
       "| 6 | 34.52055 | 0 | -1 | -1 | 14.4 | 0 | 51   | 17 | 29 |\n",
       "\n"
      ],
      "text/plain": [
       "  donor.age HLAmatch Antigen Allel Recipientage Relapse Rbodymass ANCrecovery\n",
       "1 23.34247  0        -1      -1     4.0         1       20.6      16         \n",
       "2 26.39452  0        -1      -1     6.6         1       23.4      23         \n",
       "3 39.68493  0        -1      -1    18.1         0       50        23         \n",
       "4 33.35890  1        1       0      1.3         0       9         14         \n",
       "5 27.39178  0        -1      -1     8.9         0       40        16         \n",
       "6 34.52055  0        -1      -1    14.4         0       51        17         \n",
       "  PLTrecovery\n",
       "1 37         \n",
       "2 20         \n",
       "3 29         \n",
       "4 14         \n",
       "5 70         \n",
       "6 29         "
      ]
     },
     "metadata": {},
     "output_type": "display_data"
    },
    {
     "data": {
      "text/html": [
       "<table class=\"dataframe\">\n",
       "<caption>A data.frame: 6 × 9</caption>\n",
       "<thead>\n",
       "\t<tr><th></th><th scope=col>donor.age</th><th scope=col>HLAmatch</th><th scope=col>Antigen</th><th scope=col>Allel</th><th scope=col>Recipientage</th><th scope=col>Relapse</th><th scope=col>Rbodymass</th><th scope=col>ANCrecovery</th><th scope=col>PLTrecovery</th></tr>\n",
       "\t<tr><th></th><th scope=col>&lt;dbl&gt;</th><th scope=col>&lt;int&gt;</th><th scope=col>&lt;fct&gt;</th><th scope=col>&lt;fct&gt;</th><th scope=col>&lt;dbl&gt;</th><th scope=col>&lt;int&gt;</th><th scope=col>&lt;fct&gt;</th><th scope=col>&lt;int&gt;</th><th scope=col>&lt;int&gt;</th></tr>\n",
       "</thead>\n",
       "<tbody>\n",
       "\t<tr><th scope=row>1</th><td>23.34247</td><td>0</td><td>-1</td><td>-1</td><td> 4.0</td><td>1</td><td>20.6</td><td>16</td><td>37</td></tr>\n",
       "\t<tr><th scope=row>2</th><td>26.39452</td><td>0</td><td>-1</td><td>-1</td><td> 6.6</td><td>1</td><td>23.4</td><td>23</td><td>20</td></tr>\n",
       "\t<tr><th scope=row>3</th><td>39.68493</td><td>0</td><td>-1</td><td>-1</td><td>18.1</td><td>0</td><td>50  </td><td>23</td><td>29</td></tr>\n",
       "\t<tr><th scope=row>4</th><td>33.35890</td><td>1</td><td>1 </td><td>0 </td><td> 1.3</td><td>0</td><td>9   </td><td>14</td><td>14</td></tr>\n",
       "\t<tr><th scope=row>5</th><td>27.39178</td><td>0</td><td>-1</td><td>-1</td><td> 8.9</td><td>0</td><td>40  </td><td>16</td><td>70</td></tr>\n",
       "\t<tr><th scope=row>6</th><td>34.52055</td><td>0</td><td>-1</td><td>-1</td><td>14.4</td><td>0</td><td>51  </td><td>17</td><td>29</td></tr>\n",
       "</tbody>\n",
       "</table>\n"
      ],
      "text/latex": [
       "A data.frame: 6 × 9\n",
       "\\begin{tabular}{r|lllllllll}\n",
       "  & donor.age & HLAmatch & Antigen & Allel & Recipientage & Relapse & Rbodymass & ANCrecovery & PLTrecovery\\\\\n",
       "  & <dbl> & <int> & <fct> & <fct> & <dbl> & <int> & <fct> & <int> & <int>\\\\\n",
       "\\hline\n",
       "\t1 & 23.34247 & 0 & -1 & -1 &  4.0 & 1 & 20.6 & 16 & 37\\\\\n",
       "\t2 & 26.39452 & 0 & -1 & -1 &  6.6 & 1 & 23.4 & 23 & 20\\\\\n",
       "\t3 & 39.68493 & 0 & -1 & -1 & 18.1 & 0 & 50   & 23 & 29\\\\\n",
       "\t4 & 33.35890 & 1 & 1  & 0  &  1.3 & 0 & 9    & 14 & 14\\\\\n",
       "\t5 & 27.39178 & 0 & -1 & -1 &  8.9 & 0 & 40   & 16 & 70\\\\\n",
       "\t6 & 34.52055 & 0 & -1 & -1 & 14.4 & 0 & 51   & 17 & 29\\\\\n",
       "\\end{tabular}\n"
      ],
      "text/markdown": [
       "\n",
       "A data.frame: 6 × 9\n",
       "\n",
       "| <!--/--> | donor.age &lt;dbl&gt; | HLAmatch &lt;int&gt; | Antigen &lt;fct&gt; | Allel &lt;fct&gt; | Recipientage &lt;dbl&gt; | Relapse &lt;int&gt; | Rbodymass &lt;fct&gt; | ANCrecovery &lt;int&gt; | PLTrecovery &lt;int&gt; |\n",
       "|---|---|---|---|---|---|---|---|---|---|\n",
       "| 1 | 23.34247 | 0 | -1 | -1 |  4.0 | 1 | 20.6 | 16 | 37 |\n",
       "| 2 | 26.39452 | 0 | -1 | -1 |  6.6 | 1 | 23.4 | 23 | 20 |\n",
       "| 3 | 39.68493 | 0 | -1 | -1 | 18.1 | 0 | 50   | 23 | 29 |\n",
       "| 4 | 33.35890 | 1 | 1  | 0  |  1.3 | 0 | 9    | 14 | 14 |\n",
       "| 5 | 27.39178 | 0 | -1 | -1 |  8.9 | 0 | 40   | 16 | 70 |\n",
       "| 6 | 34.52055 | 0 | -1 | -1 | 14.4 | 0 | 51   | 17 | 29 |\n",
       "\n"
      ],
      "text/plain": [
       "  donor.age HLAmatch Antigen Allel Recipientage Relapse Rbodymass ANCrecovery\n",
       "1 23.34247  0        -1      -1     4.0         1       20.6      16         \n",
       "2 26.39452  0        -1      -1     6.6         1       23.4      23         \n",
       "3 39.68493  0        -1      -1    18.1         0       50        23         \n",
       "4 33.35890  1        1       0      1.3         0       9         14         \n",
       "5 27.39178  0        -1      -1     8.9         0       40        16         \n",
       "6 34.52055  0        -1      -1    14.4         0       51        17         \n",
       "  PLTrecovery\n",
       "1 37         \n",
       "2 20         \n",
       "3 29         \n",
       "4 14         \n",
       "5 70         \n",
       "6 29         "
      ]
     },
     "metadata": {},
     "output_type": "display_data"
    }
   ],
   "source": [
    "#select for columns \n",
    "cut_transplant_data <- bone_marrow_transplant_data |>\n",
    "    select(donor.age, HLAmatch, Antigen, Allel, Recipientage, Relapse, Rbodymass, ANCrecovery, PLTrecovery)\n",
    "head(cut_transplant_data)\n",
    "\n",
    "#mutate columns to factor data type\n",
    "clean_transplant_data <- cut_transplant_data |>\n",
    "    mutate(Antigen = as_factor(Antigen), Allel = as_factor(Allel), Rbodymass = as_factor(Rbodymass))\n",
    "head(clean_transplant_data)"
   ]
  },
  {
   "cell_type": "code",
   "execution_count": 23,
   "id": "940a3297-b5a1-455a-8c2c-4675fd722627",
   "metadata": {},
   "outputs": [
    {
     "data": {
      "text/html": [
       "<table class=\"dataframe\">\n",
       "<caption>A data.frame: 6 × 9</caption>\n",
       "<thead>\n",
       "\t<tr><th></th><th scope=col>donor.age</th><th scope=col>HLAmatch</th><th scope=col>Antigen</th><th scope=col>Allel</th><th scope=col>Recipientage</th><th scope=col>Relapse</th><th scope=col>Rbodymass</th><th scope=col>ANCrecovery</th><th scope=col>PLTrecovery</th></tr>\n",
       "\t<tr><th></th><th scope=col>&lt;dbl&gt;</th><th scope=col>&lt;int&gt;</th><th scope=col>&lt;fct&gt;</th><th scope=col>&lt;fct&gt;</th><th scope=col>&lt;dbl&gt;</th><th scope=col>&lt;int&gt;</th><th scope=col>&lt;fct&gt;</th><th scope=col>&lt;int&gt;</th><th scope=col>&lt;int&gt;</th></tr>\n",
       "</thead>\n",
       "<tbody>\n",
       "\t<tr><th scope=row>3</th><td>39.68493</td><td>0</td><td>-1</td><td>-1</td><td>18.1</td><td>0</td><td>50  </td><td>23</td><td>29</td></tr>\n",
       "\t<tr><th scope=row>4</th><td>33.35890</td><td>1</td><td>1 </td><td>0 </td><td> 1.3</td><td>0</td><td>9   </td><td>14</td><td>14</td></tr>\n",
       "\t<tr><th scope=row>7</th><td>21.43562</td><td>3</td><td>1 </td><td>2 </td><td>18.2</td><td>0</td><td>56  </td><td>22</td><td>58</td></tr>\n",
       "\t<tr><th scope=row>8</th><td>32.64110</td><td>0</td><td>-1</td><td>-1</td><td> 7.9</td><td>0</td><td>20.5</td><td>15</td><td>14</td></tr>\n",
       "\t<tr><th scope=row>10</th><td>29.73151</td><td>1</td><td>0 </td><td>1 </td><td> 1.9</td><td>0</td><td>10.5</td><td>12</td><td>13</td></tr>\n",
       "\t<tr><th scope=row>11</th><td>36.80000</td><td>2</td><td>1 </td><td>1 </td><td>13.4</td><td>0</td><td>47  </td><td>11</td><td>16</td></tr>\n",
       "</tbody>\n",
       "</table>\n"
      ],
      "text/latex": [
       "A data.frame: 6 × 9\n",
       "\\begin{tabular}{r|lllllllll}\n",
       "  & donor.age & HLAmatch & Antigen & Allel & Recipientage & Relapse & Rbodymass & ANCrecovery & PLTrecovery\\\\\n",
       "  & <dbl> & <int> & <fct> & <fct> & <dbl> & <int> & <fct> & <int> & <int>\\\\\n",
       "\\hline\n",
       "\t3 & 39.68493 & 0 & -1 & -1 & 18.1 & 0 & 50   & 23 & 29\\\\\n",
       "\t4 & 33.35890 & 1 & 1  & 0  &  1.3 & 0 & 9    & 14 & 14\\\\\n",
       "\t7 & 21.43562 & 3 & 1  & 2  & 18.2 & 0 & 56   & 22 & 58\\\\\n",
       "\t8 & 32.64110 & 0 & -1 & -1 &  7.9 & 0 & 20.5 & 15 & 14\\\\\n",
       "\t10 & 29.73151 & 1 & 0  & 1  &  1.9 & 0 & 10.5 & 12 & 13\\\\\n",
       "\t11 & 36.80000 & 2 & 1  & 1  & 13.4 & 0 & 47   & 11 & 16\\\\\n",
       "\\end{tabular}\n"
      ],
      "text/markdown": [
       "\n",
       "A data.frame: 6 × 9\n",
       "\n",
       "| <!--/--> | donor.age &lt;dbl&gt; | HLAmatch &lt;int&gt; | Antigen &lt;fct&gt; | Allel &lt;fct&gt; | Recipientage &lt;dbl&gt; | Relapse &lt;int&gt; | Rbodymass &lt;fct&gt; | ANCrecovery &lt;int&gt; | PLTrecovery &lt;int&gt; |\n",
       "|---|---|---|---|---|---|---|---|---|---|\n",
       "| 3 | 39.68493 | 0 | -1 | -1 | 18.1 | 0 | 50   | 23 | 29 |\n",
       "| 4 | 33.35890 | 1 | 1  | 0  |  1.3 | 0 | 9    | 14 | 14 |\n",
       "| 7 | 21.43562 | 3 | 1  | 2  | 18.2 | 0 | 56   | 22 | 58 |\n",
       "| 8 | 32.64110 | 0 | -1 | -1 |  7.9 | 0 | 20.5 | 15 | 14 |\n",
       "| 10 | 29.73151 | 1 | 0  | 1  |  1.9 | 0 | 10.5 | 12 | 13 |\n",
       "| 11 | 36.80000 | 2 | 1  | 1  | 13.4 | 0 | 47   | 11 | 16 |\n",
       "\n"
      ],
      "text/plain": [
       "   donor.age HLAmatch Antigen Allel Recipientage Relapse Rbodymass ANCrecovery\n",
       "3  39.68493  0        -1      -1    18.1         0       50        23         \n",
       "4  33.35890  1        1       0      1.3         0       9         14         \n",
       "7  21.43562  3        1       2     18.2         0       56        22         \n",
       "8  32.64110  0        -1      -1     7.9         0       20.5      15         \n",
       "10 29.73151  1        0       1      1.9         0       10.5      12         \n",
       "11 36.80000  2        1       1     13.4         0       47        11         \n",
       "   PLTrecovery\n",
       "3  29         \n",
       "4  14         \n",
       "7  58         \n",
       "8  14         \n",
       "10 13         \n",
       "11 16         "
      ]
     },
     "metadata": {},
     "output_type": "display_data"
    },
    {
     "data": {
      "text/html": [
       "<table class=\"dataframe\">\n",
       "<caption>A data.frame: 6 × 9</caption>\n",
       "<thead>\n",
       "\t<tr><th></th><th scope=col>donor.age</th><th scope=col>HLAmatch</th><th scope=col>Antigen</th><th scope=col>Allel</th><th scope=col>Recipientage</th><th scope=col>Relapse</th><th scope=col>Rbodymass</th><th scope=col>ANCrecovery</th><th scope=col>PLTrecovery</th></tr>\n",
       "\t<tr><th></th><th scope=col>&lt;dbl&gt;</th><th scope=col>&lt;int&gt;</th><th scope=col>&lt;fct&gt;</th><th scope=col>&lt;fct&gt;</th><th scope=col>&lt;dbl&gt;</th><th scope=col>&lt;int&gt;</th><th scope=col>&lt;fct&gt;</th><th scope=col>&lt;int&gt;</th><th scope=col>&lt;int&gt;</th></tr>\n",
       "</thead>\n",
       "<tbody>\n",
       "\t<tr><th scope=row>1</th><td>23.34247</td><td>0</td><td>-1</td><td>-1</td><td> 4.0</td><td>1</td><td>20.6</td><td>16</td><td>37</td></tr>\n",
       "\t<tr><th scope=row>5</th><td>27.39178</td><td>0</td><td>-1</td><td>-1</td><td> 8.9</td><td>0</td><td>40  </td><td>16</td><td>70</td></tr>\n",
       "\t<tr><th scope=row>6</th><td>34.52055</td><td>0</td><td>-1</td><td>-1</td><td>14.4</td><td>0</td><td>51  </td><td>17</td><td>29</td></tr>\n",
       "\t<tr><th scope=row>9</th><td>28.78356</td><td>1</td><td>0 </td><td>1 </td><td> 4.7</td><td>0</td><td>16.5</td><td>16</td><td>17</td></tr>\n",
       "\t<tr><th scope=row>13</th><td>30.60274</td><td>0</td><td>-1</td><td>-1</td><td>11.5</td><td>1</td><td>42  </td><td>20</td><td>48</td></tr>\n",
       "\t<tr><th scope=row>14</th><td>30.67671</td><td>0</td><td>-1</td><td>-1</td><td>17.8</td><td>0</td><td>55  </td><td>16</td><td>16</td></tr>\n",
       "</tbody>\n",
       "</table>\n"
      ],
      "text/latex": [
       "A data.frame: 6 × 9\n",
       "\\begin{tabular}{r|lllllllll}\n",
       "  & donor.age & HLAmatch & Antigen & Allel & Recipientage & Relapse & Rbodymass & ANCrecovery & PLTrecovery\\\\\n",
       "  & <dbl> & <int> & <fct> & <fct> & <dbl> & <int> & <fct> & <int> & <int>\\\\\n",
       "\\hline\n",
       "\t1 & 23.34247 & 0 & -1 & -1 &  4.0 & 1 & 20.6 & 16 & 37\\\\\n",
       "\t5 & 27.39178 & 0 & -1 & -1 &  8.9 & 0 & 40   & 16 & 70\\\\\n",
       "\t6 & 34.52055 & 0 & -1 & -1 & 14.4 & 0 & 51   & 17 & 29\\\\\n",
       "\t9 & 28.78356 & 1 & 0  & 1  &  4.7 & 0 & 16.5 & 16 & 17\\\\\n",
       "\t13 & 30.60274 & 0 & -1 & -1 & 11.5 & 1 & 42   & 20 & 48\\\\\n",
       "\t14 & 30.67671 & 0 & -1 & -1 & 17.8 & 0 & 55   & 16 & 16\\\\\n",
       "\\end{tabular}\n"
      ],
      "text/markdown": [
       "\n",
       "A data.frame: 6 × 9\n",
       "\n",
       "| <!--/--> | donor.age &lt;dbl&gt; | HLAmatch &lt;int&gt; | Antigen &lt;fct&gt; | Allel &lt;fct&gt; | Recipientage &lt;dbl&gt; | Relapse &lt;int&gt; | Rbodymass &lt;fct&gt; | ANCrecovery &lt;int&gt; | PLTrecovery &lt;int&gt; |\n",
       "|---|---|---|---|---|---|---|---|---|---|\n",
       "| 1 | 23.34247 | 0 | -1 | -1 |  4.0 | 1 | 20.6 | 16 | 37 |\n",
       "| 5 | 27.39178 | 0 | -1 | -1 |  8.9 | 0 | 40   | 16 | 70 |\n",
       "| 6 | 34.52055 | 0 | -1 | -1 | 14.4 | 0 | 51   | 17 | 29 |\n",
       "| 9 | 28.78356 | 1 | 0  | 1  |  4.7 | 0 | 16.5 | 16 | 17 |\n",
       "| 13 | 30.60274 | 0 | -1 | -1 | 11.5 | 1 | 42   | 20 | 48 |\n",
       "| 14 | 30.67671 | 0 | -1 | -1 | 17.8 | 0 | 55   | 16 | 16 |\n",
       "\n"
      ],
      "text/plain": [
       "   donor.age HLAmatch Antigen Allel Recipientage Relapse Rbodymass ANCrecovery\n",
       "1  23.34247  0        -1      -1     4.0         1       20.6      16         \n",
       "5  27.39178  0        -1      -1     8.9         0       40        16         \n",
       "6  34.52055  0        -1      -1    14.4         0       51        17         \n",
       "9  28.78356  1        0       1      4.7         0       16.5      16         \n",
       "13 30.60274  0        -1      -1    11.5         1       42        20         \n",
       "14 30.67671  0        -1      -1    17.8         0       55        16         \n",
       "   PLTrecovery\n",
       "1  37         \n",
       "5  70         \n",
       "6  29         \n",
       "9  17         \n",
       "13 48         \n",
       "14 16         "
      ]
     },
     "metadata": {},
     "output_type": "display_data"
    }
   ],
   "source": [
    "#splitting data into training and testing sets\n",
    "transplant_data_split <-  initial_split(clean_transplant_data, prop = 0.75, strata = Relapse)\n",
    "transplant_train <- training(transplant_data_split)\n",
    "transplant_test <- testing(transplant_data_split)\n",
    "head(transplant_train)\n",
    "head(transplant_test)"
   ]
  },
  {
   "cell_type": "markdown",
   "id": "5276f9e1-065f-41de-9bbc-5edf1ef8b81d",
   "metadata": {},
   "source": [
    "Step 3: Visulizing the Data\n",
    "====\n",
    "Note: This is using only the training data\n",
    "\n",
    "**Plot: 1**"
   ]
  },
  {
   "cell_type": "code",
   "execution_count": 37,
   "id": "7016192e-6145-4904-b289-8c4787feccff",
   "metadata": {},
   "outputs": [
    {
     "ename": "ERROR",
     "evalue": "Error in .f(.x[[i]], ...): object 'donor.age' not found\n",
     "output_type": "error",
     "traceback": [
      "Error in .f(.x[[i]], ...): object 'donor.age' not found\nTraceback:\n",
      "1. map_df(clean_transplant_data, max, donor.age, na.rm = TRUE)",
      "2. map(.x, .f, ...)",
      "3. .f(.x[[i]], ...)"
     ]
    }
   ],
   "source": [
    "exploratory_analysis <- clean_transplant_data |>\n",
    "    map_df(max, donor.age, na.rm = TRUE)\n",
    "exploratory_analysis"
   ]
  },
  {
   "cell_type": "raw",
   "id": "959d1a73-41f8-4332-b186-17b468a596fb",
   "metadata": {},
   "source": [
    "Meaning of Column Names \n",
    "%- Recipientgender - Male - 1, Female - 0,\n",
    "%- Stemcellsource - Source of hematopoietic stem cells (Peripheral blood - 1, Bone marrow - 0),\n",
    "%- Donorage - Age of the donor at the time of hematopoietic stem cells apheresis\n",
    "%- Donorage35 - Donor age <35 - 0, Donor age >=35 - 1\n",
    "%- IIIV - Development of acute graft versus host disease stage II or III or IV (Yes - 1, No - 0),\n",
    "%- Gendermatch - Compatibility of the donor and recipient according to their gender (Female to Male - 1, Other - 0),\n",
    "%- DonorABO - ABO blood group of the donor of hematopoietic stem cells (0 - 0, 1, A, B=-1, AB=2),\n",
    "%- RecipientABO - ABO blood group of the recipient of hematopoietic stem cells (0 - 0, 1, A, B=-1, AB=2),\n",
    "%- RecipientRh - Presence of the Rh factor on recipient s red blood cells ('+' - 1, '-' - 0),\n",
    "%- ABOMatch - Compatibility of the donor and the recipient of hematopoietic stem cells according to ABO blood group (matched - 1, mismatched - 1)\n",
    "%- CMVstatus - Serological compatibility of the donor and the recipient of hematopoietic stem cells according to cytomegalovirus infection prior to transplantation (the higher the value the lower the compatibility)\n",
    "%- RecipientCMV - Presence of cytomegalovirus infection in the donor of hematopoietic stem cells prior to transplantation (presence - 1, absence - 0)\n",
    "%- Disease - Type of disease (ALL,AML,chronic,nonmalignant,lymphoma)\n",
    "%- Riskgroup - High risk - 1, Low risk - 0,\n",
    "%- Txpostrelapse - The second bone marrow transplantation after relapse (No - 0; Yes - 1),\n",
    "%- Diseasegroup - Type of disease (malignant - 1, nonmalignant - 0), \n",
    "%- HLAmatch - Compatibility of antigens of the main histocompatibility complex of the donor and the recipient of hematopoietic stem cells\n",
    "$  according to ALL international BFM SCT 2008 criteria (10/10 - 0, 9/10 - 1, 8/10 - 2, 7/10 - 3 (allele/antigens)),\n",
    "%- HLAmismatch - HLA matched - 0, HL mismatched - 1,\n",
    "%- Antigen - In how many antigens there is difference beetwen the donor and the recipient (-1 - no differences, 0 - one difference,1 (2) - two (three) diffences)\n",
    "%- Allel - In how many allele there is difference beetwen the donor nad the recipient {-1 no differences,0 - one difference, 1 (2) (3) - two, (tree, four) differences)\n",
    "%- HLAgrI - The differecne type beetwien the donor and the recipient (HLA mateched - 0,the difference is in only one antigen - 1,\n",
    "  the difference is only in one allel - 2, the difference is only in DRB1 cell - 3, two differences (two allele or two antignes) - 4,\n",
    "  two differences (two allele or two antignes) - 5),\n",
    "%- Recipientage - Age of the recipient of hematopoietic stem cells at the time of transplantation,\n",
    "%- Recipientage10 - Recipient age <10 - 0, Recipient age>=10 - 1,\n",
    "%- Recipientageint - Recipient age in (0,5] - 0, (5, 10] - 1, (10, 20] - 2,\n",
    "%- Relapse - Reoccurrence of the disease (No - 0, Yes - 1),\n",
    "%- aGvHDIIIIV - Development of acute graft versus host disease stage III or IV (Yes - 0, No - 1)\n",
    "%- extcGvHD - Development of extensive chronic graft versus host disease (Yes - 0, No - 1)\n",
    "%- CD34kgx10d6 - CD34+ cell dose per kg of recipient body weight (10^6/kg)\n",
    "%- CD3dCD34 - CD3+ cell to CD34+ cell ratio\n",
    "%- CD3dkgx10d8 - CD3+ cell dose per kg of recipient body weight (10^8/kg)\n",
    "%- Rbodymass - Body mass of the recipient of hematopoietic stem cells at the time of transplantation,\n",
    "%- ANCrecovery - Time to neutrophils recovery defined as neutrophils count >0.5 x 10^9/L \n",
    "%- PLTrecovery - Time to platelet recovery defined as platelet count >50000/mm3,\n",
    "%- time_to_aGvHD_III_IV - Time to development of acute graft versus host disease stage III or IV\n",
    "%- survival_time numeric\n",
    "%- survival_status\n",
    "\n",
    "# Column Names Units\n",
    "\n",
    "\"Stemcellsource\",\n",
    "\"donor.age\",\n",
    "\"Donorage35\",\n",
    "\"IIIV\",\n",
    "\"Gendermatch\",\n",
    "\"DonorABO\",\n",
    "\"RecipientABO {1,-1,2,0}\" ,\n",
    "\"RecipientRh {1,0}\" ,\n",
    "\"ABOmatch {0,1}\" ,\n",
    "\"CMVstatus {3,2,1,0}\" ,\n",
    "\"DonorCMV {1,0}\" ,\n",
    "\"RecipientCMV {1,0}\" ,\n",
    "\"Disease {ALL,AML,chronic,nonmalignant,lymphoma}\" ,\n",
    "\"Riskgroup {1,0}\" ,\n",
    "\"Txpostrelapse {0,1}\" ,\n",
    "\"Diseasegroup {1,0}\" ,\n",
    "\"HLAmatch {0,1,3,2}\" ,\n",
    "\"HLAmismatch {0,1}\" ,\n",
    "\"Antigen {-1,1,0,2}\" ,\n",
    "\"Alel {-1,0,2,1,3}\" ,\n",
    "\"HLAgrI {0,1,7,3,2,4,5}\" ,\n",
    "\"Recipientage numeric\" ,\n",
    "\"Recipientage10 {0,1}\" ,\n",
    "\"Recipientageint {0,1,2}\" ,\n",
    "\"Relapse {0,1}\" ,\n",
    "\"aGvHDIIIIV {0,1}\" ,\n",
    "\"extcGvHD {1,0}\" ,\n",
    "\"CD34kgx10d6 numeric\" ,\n",
    "\"CD3dCD34 numeric\" ,\n",
    "\"CD3dkgx10d8 numeric\" ,\n",
    "\"Rbodymass numeric\" ,\n",
    "\"ANCrecovery numeric\" ,\n",
    "\"PLTrecovery numeric\" ,\n",
    "\"time_to_aGvHD_III_IV numeric\" ,\n",
    "\"survival_time numeric\" ,\n",
    "\"survival_status numeric\"))"
   ]
  }
 ],
 "metadata": {
  "kernelspec": {
   "display_name": "R",
   "language": "R",
   "name": "ir"
  },
  "language_info": {
   "codemirror_mode": "r",
   "file_extension": ".r",
   "mimetype": "text/x-r-source",
   "name": "R",
   "pygments_lexer": "r",
   "version": "4.1.3"
  }
 },
 "nbformat": 4,
 "nbformat_minor": 5
}

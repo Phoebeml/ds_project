{
 "cells": [
  {
   "cell_type": "markdown",
   "id": "c6510921-bda8-445f-9b3d-f3fe76555add",
   "metadata": {},
   "source": [
    "Heart Disease in Cleveland\n",
    "=====\n",
    "A Classification Analysis \n",
    "----\n",
    "\n",
    "Dataset source: https://archive.ics.uci.edu/ml/datasets/Heart+Disease\n",
    "\n",
    "Relivent Papers: \n",
    "\n",
    "http://rexa.info/paper/b884ce2f4aff7ed95ce7bfa7adabaef46b88c60c\n",
    "\n",
    "http://rexa.info/paper/0519d1408b992b21964af4bfe97675987c0caefc\n",
    "\n",
    "http://rexa.info/paper/faecfadbd4a49f6705e0d3904d6770171b05041f"
   ]
  },
  {
   "cell_type": "markdown",
   "id": "f702355c-9de5-49ce-b786-d3042cdc4b43",
   "metadata": {},
   "source": [
    "Introduction\n",
    "----\n",
    "ksdgfjawfh\n"
   ]
  },
  {
   "cell_type": "code",
   "execution_count": 13,
   "id": "08d99a94-8bc5-4b51-97c7-b148b7776d0a",
   "metadata": {},
   "outputs": [],
   "source": [
    "library(tidyverse)\n",
    "library(tidymodels)\n",
    "library(repr) \n",
    "library(gridExtra)\n",
    "library(readxl)\n",
    "set.seed(420)"
   ]
  },
  {
   "cell_type": "markdown",
   "id": "72e20d45-30c3-455e-9853-8987226dd83e",
   "metadata": {},
   "source": [
    "Step 1: Read in the Data\n",
    "----"
   ]
  },
  {
   "cell_type": "code",
   "execution_count": 2,
   "id": "d8386287-3c1d-4831-a7a6-f90f615cf403",
   "metadata": {},
   "outputs": [
    {
     "data": {
      "text/html": [
       "<table class=\"dataframe\">\n",
       "<caption>A data.frame: 6 × 14</caption>\n",
       "<thead>\n",
       "\t<tr><th></th><th scope=col>age</th><th scope=col>sex</th><th scope=col>cp</th><th scope=col>trestbps</th><th scope=col>chol</th><th scope=col>fbs</th><th scope=col>restecg</th><th scope=col>thalach</th><th scope=col>exang</th><th scope=col>oldpeak</th><th scope=col>slope</th><th scope=col>ca</th><th scope=col>thal</th><th scope=col>num</th></tr>\n",
       "\t<tr><th></th><th scope=col>&lt;dbl&gt;</th><th scope=col>&lt;dbl&gt;</th><th scope=col>&lt;dbl&gt;</th><th scope=col>&lt;dbl&gt;</th><th scope=col>&lt;dbl&gt;</th><th scope=col>&lt;dbl&gt;</th><th scope=col>&lt;dbl&gt;</th><th scope=col>&lt;dbl&gt;</th><th scope=col>&lt;dbl&gt;</th><th scope=col>&lt;dbl&gt;</th><th scope=col>&lt;dbl&gt;</th><th scope=col>&lt;chr&gt;</th><th scope=col>&lt;chr&gt;</th><th scope=col>&lt;int&gt;</th></tr>\n",
       "</thead>\n",
       "<tbody>\n",
       "\t<tr><th scope=row>1</th><td>63</td><td>1</td><td>1</td><td>145</td><td>233</td><td>1</td><td>2</td><td>150</td><td>0</td><td>2.3</td><td>3</td><td>0.0</td><td>6.0</td><td>0</td></tr>\n",
       "\t<tr><th scope=row>2</th><td>67</td><td>1</td><td>4</td><td>160</td><td>286</td><td>0</td><td>2</td><td>108</td><td>1</td><td>1.5</td><td>2</td><td>3.0</td><td>3.0</td><td>2</td></tr>\n",
       "\t<tr><th scope=row>3</th><td>67</td><td>1</td><td>4</td><td>120</td><td>229</td><td>0</td><td>2</td><td>129</td><td>1</td><td>2.6</td><td>2</td><td>2.0</td><td>7.0</td><td>1</td></tr>\n",
       "\t<tr><th scope=row>4</th><td>37</td><td>1</td><td>3</td><td>130</td><td>250</td><td>0</td><td>0</td><td>187</td><td>0</td><td>3.5</td><td>3</td><td>0.0</td><td>3.0</td><td>0</td></tr>\n",
       "\t<tr><th scope=row>5</th><td>41</td><td>0</td><td>2</td><td>130</td><td>204</td><td>0</td><td>2</td><td>172</td><td>0</td><td>1.4</td><td>1</td><td>0.0</td><td>3.0</td><td>0</td></tr>\n",
       "\t<tr><th scope=row>6</th><td>56</td><td>1</td><td>2</td><td>120</td><td>236</td><td>0</td><td>0</td><td>178</td><td>0</td><td>0.8</td><td>1</td><td>0.0</td><td>3.0</td><td>0</td></tr>\n",
       "</tbody>\n",
       "</table>\n"
      ],
      "text/latex": [
       "A data.frame: 6 × 14\n",
       "\\begin{tabular}{r|llllllllllllll}\n",
       "  & age & sex & cp & trestbps & chol & fbs & restecg & thalach & exang & oldpeak & slope & ca & thal & num\\\\\n",
       "  & <dbl> & <dbl> & <dbl> & <dbl> & <dbl> & <dbl> & <dbl> & <dbl> & <dbl> & <dbl> & <dbl> & <chr> & <chr> & <int>\\\\\n",
       "\\hline\n",
       "\t1 & 63 & 1 & 1 & 145 & 233 & 1 & 2 & 150 & 0 & 2.3 & 3 & 0.0 & 6.0 & 0\\\\\n",
       "\t2 & 67 & 1 & 4 & 160 & 286 & 0 & 2 & 108 & 1 & 1.5 & 2 & 3.0 & 3.0 & 2\\\\\n",
       "\t3 & 67 & 1 & 4 & 120 & 229 & 0 & 2 & 129 & 1 & 2.6 & 2 & 2.0 & 7.0 & 1\\\\\n",
       "\t4 & 37 & 1 & 3 & 130 & 250 & 0 & 0 & 187 & 0 & 3.5 & 3 & 0.0 & 3.0 & 0\\\\\n",
       "\t5 & 41 & 0 & 2 & 130 & 204 & 0 & 2 & 172 & 0 & 1.4 & 1 & 0.0 & 3.0 & 0\\\\\n",
       "\t6 & 56 & 1 & 2 & 120 & 236 & 0 & 0 & 178 & 0 & 0.8 & 1 & 0.0 & 3.0 & 0\\\\\n",
       "\\end{tabular}\n"
      ],
      "text/markdown": [
       "\n",
       "A data.frame: 6 × 14\n",
       "\n",
       "| <!--/--> | age &lt;dbl&gt; | sex &lt;dbl&gt; | cp &lt;dbl&gt; | trestbps &lt;dbl&gt; | chol &lt;dbl&gt; | fbs &lt;dbl&gt; | restecg &lt;dbl&gt; | thalach &lt;dbl&gt; | exang &lt;dbl&gt; | oldpeak &lt;dbl&gt; | slope &lt;dbl&gt; | ca &lt;chr&gt; | thal &lt;chr&gt; | num &lt;int&gt; |\n",
       "|---|---|---|---|---|---|---|---|---|---|---|---|---|---|---|\n",
       "| 1 | 63 | 1 | 1 | 145 | 233 | 1 | 2 | 150 | 0 | 2.3 | 3 | 0.0 | 6.0 | 0 |\n",
       "| 2 | 67 | 1 | 4 | 160 | 286 | 0 | 2 | 108 | 1 | 1.5 | 2 | 3.0 | 3.0 | 2 |\n",
       "| 3 | 67 | 1 | 4 | 120 | 229 | 0 | 2 | 129 | 1 | 2.6 | 2 | 2.0 | 7.0 | 1 |\n",
       "| 4 | 37 | 1 | 3 | 130 | 250 | 0 | 0 | 187 | 0 | 3.5 | 3 | 0.0 | 3.0 | 0 |\n",
       "| 5 | 41 | 0 | 2 | 130 | 204 | 0 | 2 | 172 | 0 | 1.4 | 1 | 0.0 | 3.0 | 0 |\n",
       "| 6 | 56 | 1 | 2 | 120 | 236 | 0 | 0 | 178 | 0 | 0.8 | 1 | 0.0 | 3.0 | 0 |\n",
       "\n"
      ],
      "text/plain": [
       "  age sex cp trestbps chol fbs restecg thalach exang oldpeak slope ca  thal num\n",
       "1 63  1   1  145      233  1   2       150     0     2.3     3     0.0 6.0  0  \n",
       "2 67  1   4  160      286  0   2       108     1     1.5     2     3.0 3.0  2  \n",
       "3 67  1   4  120      229  0   2       129     1     2.6     2     2.0 7.0  1  \n",
       "4 37  1   3  130      250  0   0       187     0     3.5     3     0.0 3.0  0  \n",
       "5 41  0   2  130      204  0   2       172     0     1.4     1     0.0 3.0  0  \n",
       "6 56  1   2  120      236  0   0       178     0     0.8     1     0.0 3.0  0  "
      ]
     },
     "metadata": {},
     "output_type": "display_data"
    }
   ],
   "source": [
    "Cl_heart_data <- read.table(\"https://archive.ics.uci.edu/ml/machine-learning-databases/heart-disease/processed.cleveland.data\", sep = \",\",\n",
    "                 col.names = c(\"age\", \"sex\", \"cp\", \"trestbps\", \"chol\", \"fbs\",  \"restecg\", \"thalach\", \"exang\", \"oldpeak\", \"slope\", \"ca\", \"thal\", \"num\"))\n",
    "head(Cl_heart_data)"
   ]
  },
  {
   "cell_type": "markdown",
   "id": "ca41e65d-c6ac-4686-b4d3-79f396680a31",
   "metadata": {},
   "source": [
    "Step 2: Clean and Wrangle data into tidy format \n",
    "-----\n",
    "(choose parameters that we will use in our model) "
   ]
  },
  {
   "cell_type": "markdown",
   "id": "bdaace4d-688d-47c5-b7cc-0fde9254e86a",
   "metadata": {},
   "source": [
    "**Class that we are predicting:**\n",
    "diagnosis (num)\n",
    "\n",
    "**Parameters that we will use in training our model:**\n",
    "\n",
    "Sex: \n",
    "\n",
    "Age: \n",
    "\n",
    "Resting blood pressure (trestbps): \n",
    "\n",
    "Cholesterol Level (chol): \n",
    "\n",
    "Fasting blood pressure (fbs): This is defined as a risk facotr for heart disease\n",
    "\n",
    "ST depression (oldpeak):this is a risk factor\n",
    "\n",
    "Number of major vessles coloured by flouroscopy (ca): Having blocked off vessles is a menas of diagnosis for heart disease so is a very strong indicator. \n",
    "\n",
    "**Parameters that we will not use in training our model** \n",
    "\n",
    "Chest pain type (cp): This can be caused by multiple different extranous variables (such as other conditions that are not related to heart disease). \n",
    "\n",
    "Resting ECG data (Restecg): Tells you if you have had a heart attack in the past or if you are at risk for one in the future. \n",
    "\n",
    "Excersize enduced heart pain (exang): we dont want to many binary predictors\n",
    "\n",
    "Maximum heart rate achieved (thalch): more an indicator of fitness? (cite later) \n",
    "\n",
    "Slope of peak excersize ST segment (slope): \n",
    "\n",
    "(thal): not enough info on what it is so not useful"
   ]
  },
  {
   "cell_type": "code",
   "execution_count": 3,
   "id": "18ddf0cf-2e26-46cd-b979-77d117e704f5",
   "metadata": {},
   "outputs": [
    {
     "data": {
      "text/html": [
       "<table class=\"dataframe\">\n",
       "<caption>A data.frame: 6 × 8</caption>\n",
       "<thead>\n",
       "\t<tr><th></th><th scope=col>age</th><th scope=col>sex</th><th scope=col>trestbps</th><th scope=col>chol</th><th scope=col>fbs</th><th scope=col>oldpeak</th><th scope=col>ca</th><th scope=col>num</th></tr>\n",
       "\t<tr><th></th><th scope=col>&lt;dbl&gt;</th><th scope=col>&lt;dbl&gt;</th><th scope=col>&lt;dbl&gt;</th><th scope=col>&lt;dbl&gt;</th><th scope=col>&lt;dbl&gt;</th><th scope=col>&lt;dbl&gt;</th><th scope=col>&lt;chr&gt;</th><th scope=col>&lt;int&gt;</th></tr>\n",
       "</thead>\n",
       "<tbody>\n",
       "\t<tr><th scope=row>1</th><td>63</td><td>1</td><td>145</td><td>233</td><td>1</td><td>2.3</td><td>0.0</td><td>0</td></tr>\n",
       "\t<tr><th scope=row>2</th><td>67</td><td>1</td><td>160</td><td>286</td><td>0</td><td>1.5</td><td>3.0</td><td>2</td></tr>\n",
       "\t<tr><th scope=row>3</th><td>67</td><td>1</td><td>120</td><td>229</td><td>0</td><td>2.6</td><td>2.0</td><td>1</td></tr>\n",
       "\t<tr><th scope=row>4</th><td>37</td><td>1</td><td>130</td><td>250</td><td>0</td><td>3.5</td><td>0.0</td><td>0</td></tr>\n",
       "\t<tr><th scope=row>5</th><td>41</td><td>0</td><td>130</td><td>204</td><td>0</td><td>1.4</td><td>0.0</td><td>0</td></tr>\n",
       "\t<tr><th scope=row>6</th><td>56</td><td>1</td><td>120</td><td>236</td><td>0</td><td>0.8</td><td>0.0</td><td>0</td></tr>\n",
       "</tbody>\n",
       "</table>\n"
      ],
      "text/latex": [
       "A data.frame: 6 × 8\n",
       "\\begin{tabular}{r|llllllll}\n",
       "  & age & sex & trestbps & chol & fbs & oldpeak & ca & num\\\\\n",
       "  & <dbl> & <dbl> & <dbl> & <dbl> & <dbl> & <dbl> & <chr> & <int>\\\\\n",
       "\\hline\n",
       "\t1 & 63 & 1 & 145 & 233 & 1 & 2.3 & 0.0 & 0\\\\\n",
       "\t2 & 67 & 1 & 160 & 286 & 0 & 1.5 & 3.0 & 2\\\\\n",
       "\t3 & 67 & 1 & 120 & 229 & 0 & 2.6 & 2.0 & 1\\\\\n",
       "\t4 & 37 & 1 & 130 & 250 & 0 & 3.5 & 0.0 & 0\\\\\n",
       "\t5 & 41 & 0 & 130 & 204 & 0 & 1.4 & 0.0 & 0\\\\\n",
       "\t6 & 56 & 1 & 120 & 236 & 0 & 0.8 & 0.0 & 0\\\\\n",
       "\\end{tabular}\n"
      ],
      "text/markdown": [
       "\n",
       "A data.frame: 6 × 8\n",
       "\n",
       "| <!--/--> | age &lt;dbl&gt; | sex &lt;dbl&gt; | trestbps &lt;dbl&gt; | chol &lt;dbl&gt; | fbs &lt;dbl&gt; | oldpeak &lt;dbl&gt; | ca &lt;chr&gt; | num &lt;int&gt; |\n",
       "|---|---|---|---|---|---|---|---|---|\n",
       "| 1 | 63 | 1 | 145 | 233 | 1 | 2.3 | 0.0 | 0 |\n",
       "| 2 | 67 | 1 | 160 | 286 | 0 | 1.5 | 3.0 | 2 |\n",
       "| 3 | 67 | 1 | 120 | 229 | 0 | 2.6 | 2.0 | 1 |\n",
       "| 4 | 37 | 1 | 130 | 250 | 0 | 3.5 | 0.0 | 0 |\n",
       "| 5 | 41 | 0 | 130 | 204 | 0 | 1.4 | 0.0 | 0 |\n",
       "| 6 | 56 | 1 | 120 | 236 | 0 | 0.8 | 0.0 | 0 |\n",
       "\n"
      ],
      "text/plain": [
       "  age sex trestbps chol fbs oldpeak ca  num\n",
       "1 63  1   145      233  1   2.3     0.0 0  \n",
       "2 67  1   160      286  0   1.5     3.0 2  \n",
       "3 67  1   120      229  0   2.6     2.0 1  \n",
       "4 37  1   130      250  0   3.5     0.0 0  \n",
       "5 41  0   130      204  0   1.4     0.0 0  \n",
       "6 56  1   120      236  0   0.8     0.0 0  "
      ]
     },
     "metadata": {},
     "output_type": "display_data"
    },
    {
     "name": "stderr",
     "output_type": "stream",
     "text": [
      "Warning message in mask$eval_all_mutate(quo):\n",
      "“NAs introduced by coercion”\n"
     ]
    },
    {
     "data": {
      "text/html": [
       "<table class=\"dataframe\">\n",
       "<caption>A data.frame: 6 × 8</caption>\n",
       "<thead>\n",
       "\t<tr><th></th><th scope=col>age</th><th scope=col>sex</th><th scope=col>trestbps</th><th scope=col>chol</th><th scope=col>fbs</th><th scope=col>oldpeak</th><th scope=col>ca</th><th scope=col>num</th></tr>\n",
       "\t<tr><th></th><th scope=col>&lt;dbl&gt;</th><th scope=col>&lt;dbl&gt;</th><th scope=col>&lt;dbl&gt;</th><th scope=col>&lt;dbl&gt;</th><th scope=col>&lt;dbl&gt;</th><th scope=col>&lt;dbl&gt;</th><th scope=col>&lt;dbl&gt;</th><th scope=col>&lt;int&gt;</th></tr>\n",
       "</thead>\n",
       "<tbody>\n",
       "\t<tr><th scope=row>1</th><td>63</td><td>1</td><td>145</td><td>233</td><td>1</td><td>2.3</td><td>0</td><td>0</td></tr>\n",
       "\t<tr><th scope=row>2</th><td>67</td><td>1</td><td>160</td><td>286</td><td>0</td><td>1.5</td><td>3</td><td>2</td></tr>\n",
       "\t<tr><th scope=row>3</th><td>67</td><td>1</td><td>120</td><td>229</td><td>0</td><td>2.6</td><td>2</td><td>1</td></tr>\n",
       "\t<tr><th scope=row>4</th><td>37</td><td>1</td><td>130</td><td>250</td><td>0</td><td>3.5</td><td>0</td><td>0</td></tr>\n",
       "\t<tr><th scope=row>5</th><td>41</td><td>0</td><td>130</td><td>204</td><td>0</td><td>1.4</td><td>0</td><td>0</td></tr>\n",
       "\t<tr><th scope=row>6</th><td>56</td><td>1</td><td>120</td><td>236</td><td>0</td><td>0.8</td><td>0</td><td>0</td></tr>\n",
       "</tbody>\n",
       "</table>\n"
      ],
      "text/latex": [
       "A data.frame: 6 × 8\n",
       "\\begin{tabular}{r|llllllll}\n",
       "  & age & sex & trestbps & chol & fbs & oldpeak & ca & num\\\\\n",
       "  & <dbl> & <dbl> & <dbl> & <dbl> & <dbl> & <dbl> & <dbl> & <int>\\\\\n",
       "\\hline\n",
       "\t1 & 63 & 1 & 145 & 233 & 1 & 2.3 & 0 & 0\\\\\n",
       "\t2 & 67 & 1 & 160 & 286 & 0 & 1.5 & 3 & 2\\\\\n",
       "\t3 & 67 & 1 & 120 & 229 & 0 & 2.6 & 2 & 1\\\\\n",
       "\t4 & 37 & 1 & 130 & 250 & 0 & 3.5 & 0 & 0\\\\\n",
       "\t5 & 41 & 0 & 130 & 204 & 0 & 1.4 & 0 & 0\\\\\n",
       "\t6 & 56 & 1 & 120 & 236 & 0 & 0.8 & 0 & 0\\\\\n",
       "\\end{tabular}\n"
      ],
      "text/markdown": [
       "\n",
       "A data.frame: 6 × 8\n",
       "\n",
       "| <!--/--> | age &lt;dbl&gt; | sex &lt;dbl&gt; | trestbps &lt;dbl&gt; | chol &lt;dbl&gt; | fbs &lt;dbl&gt; | oldpeak &lt;dbl&gt; | ca &lt;dbl&gt; | num &lt;int&gt; |\n",
       "|---|---|---|---|---|---|---|---|---|\n",
       "| 1 | 63 | 1 | 145 | 233 | 1 | 2.3 | 0 | 0 |\n",
       "| 2 | 67 | 1 | 160 | 286 | 0 | 1.5 | 3 | 2 |\n",
       "| 3 | 67 | 1 | 120 | 229 | 0 | 2.6 | 2 | 1 |\n",
       "| 4 | 37 | 1 | 130 | 250 | 0 | 3.5 | 0 | 0 |\n",
       "| 5 | 41 | 0 | 130 | 204 | 0 | 1.4 | 0 | 0 |\n",
       "| 6 | 56 | 1 | 120 | 236 | 0 | 0.8 | 0 | 0 |\n",
       "\n"
      ],
      "text/plain": [
       "  age sex trestbps chol fbs oldpeak ca num\n",
       "1 63  1   145      233  1   2.3     0  0  \n",
       "2 67  1   160      286  0   1.5     3  2  \n",
       "3 67  1   120      229  0   2.6     2  1  \n",
       "4 37  1   130      250  0   3.5     0  0  \n",
       "5 41  0   130      204  0   1.4     0  0  \n",
       "6 56  1   120      236  0   0.8     0  0  "
      ]
     },
     "metadata": {},
     "output_type": "display_data"
    }
   ],
   "source": [
    "#select for columns \n",
    "cut_heart_data <- Cl_heart_data |>\n",
    "    select(\"age\", \"sex\", \"trestbps\", \"chol\", \"fbs\", \"oldpeak\", \"ca\", \"num\")\n",
    "head(cut_heart_data)\n",
    "\n",
    "#mutate columns to factor data type\n",
    "clean_heart_data <- cut_heart_data |>\n",
    "    mutate(ca = as.numeric(ca))\n",
    "head(clean_heart_data)"
   ]
  },
  {
   "cell_type": "code",
   "execution_count": 4,
   "id": "758559f1-6523-44f1-895e-f51a10977a46",
   "metadata": {},
   "outputs": [
    {
     "data": {
      "text/html": [
       "<table class=\"dataframe\">\n",
       "<caption>A data.frame: 6 × 7</caption>\n",
       "<thead>\n",
       "\t<tr><th></th><th scope=col>age</th><th scope=col>sex</th><th scope=col>trestbps</th><th scope=col>chol</th><th scope=col>fbs</th><th scope=col>oldpeak</th><th scope=col>ca</th></tr>\n",
       "\t<tr><th></th><th scope=col>&lt;dbl&gt;</th><th scope=col>&lt;dbl&gt;</th><th scope=col>&lt;dbl&gt;</th><th scope=col>&lt;dbl&gt;</th><th scope=col>&lt;dbl&gt;</th><th scope=col>&lt;dbl&gt;</th><th scope=col>&lt;dbl&gt;</th></tr>\n",
       "</thead>\n",
       "<tbody>\n",
       "\t<tr><th scope=row>1</th><td>63</td><td>1</td><td>145</td><td>233</td><td>1</td><td>2.3</td><td>0</td></tr>\n",
       "\t<tr><th scope=row>4</th><td>37</td><td>1</td><td>130</td><td>250</td><td>0</td><td>3.5</td><td>0</td></tr>\n",
       "\t<tr><th scope=row>5</th><td>41</td><td>0</td><td>130</td><td>204</td><td>0</td><td>1.4</td><td>0</td></tr>\n",
       "\t<tr><th scope=row>8</th><td>57</td><td>0</td><td>120</td><td>354</td><td>0</td><td>0.6</td><td>0</td></tr>\n",
       "\t<tr><th scope=row>12</th><td>56</td><td>0</td><td>140</td><td>294</td><td>0</td><td>1.3</td><td>0</td></tr>\n",
       "\t<tr><th scope=row>14</th><td>44</td><td>1</td><td>120</td><td>263</td><td>0</td><td>0.0</td><td>0</td></tr>\n",
       "</tbody>\n",
       "</table>\n"
      ],
      "text/latex": [
       "A data.frame: 6 × 7\n",
       "\\begin{tabular}{r|lllllll}\n",
       "  & age & sex & trestbps & chol & fbs & oldpeak & ca\\\\\n",
       "  & <dbl> & <dbl> & <dbl> & <dbl> & <dbl> & <dbl> & <dbl>\\\\\n",
       "\\hline\n",
       "\t1 & 63 & 1 & 145 & 233 & 1 & 2.3 & 0\\\\\n",
       "\t4 & 37 & 1 & 130 & 250 & 0 & 3.5 & 0\\\\\n",
       "\t5 & 41 & 0 & 130 & 204 & 0 & 1.4 & 0\\\\\n",
       "\t8 & 57 & 0 & 120 & 354 & 0 & 0.6 & 0\\\\\n",
       "\t12 & 56 & 0 & 140 & 294 & 0 & 1.3 & 0\\\\\n",
       "\t14 & 44 & 1 & 120 & 263 & 0 & 0.0 & 0\\\\\n",
       "\\end{tabular}\n"
      ],
      "text/markdown": [
       "\n",
       "A data.frame: 6 × 7\n",
       "\n",
       "| <!--/--> | age &lt;dbl&gt; | sex &lt;dbl&gt; | trestbps &lt;dbl&gt; | chol &lt;dbl&gt; | fbs &lt;dbl&gt; | oldpeak &lt;dbl&gt; | ca &lt;dbl&gt; |\n",
       "|---|---|---|---|---|---|---|---|\n",
       "| 1 | 63 | 1 | 145 | 233 | 1 | 2.3 | 0 |\n",
       "| 4 | 37 | 1 | 130 | 250 | 0 | 3.5 | 0 |\n",
       "| 5 | 41 | 0 | 130 | 204 | 0 | 1.4 | 0 |\n",
       "| 8 | 57 | 0 | 120 | 354 | 0 | 0.6 | 0 |\n",
       "| 12 | 56 | 0 | 140 | 294 | 0 | 1.3 | 0 |\n",
       "| 14 | 44 | 1 | 120 | 263 | 0 | 0.0 | 0 |\n",
       "\n"
      ],
      "text/plain": [
       "   age sex trestbps chol fbs oldpeak ca\n",
       "1  63  1   145      233  1   2.3     0 \n",
       "4  37  1   130      250  0   3.5     0 \n",
       "5  41  0   130      204  0   1.4     0 \n",
       "8  57  0   120      354  0   0.6     0 \n",
       "12 56  0   140      294  0   1.3     0 \n",
       "14 44  1   120      263  0   0.0     0 "
      ]
     },
     "metadata": {},
     "output_type": "display_data"
    },
    {
     "data": {
      "text/html": [
       "<table class=\"dataframe\">\n",
       "<caption>A data.frame: 6 × 8</caption>\n",
       "<thead>\n",
       "\t<tr><th></th><th scope=col>age</th><th scope=col>sex</th><th scope=col>trestbps</th><th scope=col>chol</th><th scope=col>fbs</th><th scope=col>oldpeak</th><th scope=col>ca</th><th scope=col>num</th></tr>\n",
       "\t<tr><th></th><th scope=col>&lt;dbl&gt;</th><th scope=col>&lt;dbl&gt;</th><th scope=col>&lt;dbl&gt;</th><th scope=col>&lt;dbl&gt;</th><th scope=col>&lt;dbl&gt;</th><th scope=col>&lt;dbl&gt;</th><th scope=col>&lt;dbl&gt;</th><th scope=col>&lt;int&gt;</th></tr>\n",
       "</thead>\n",
       "<tbody>\n",
       "\t<tr><th scope=row>6</th><td>56</td><td>1</td><td>120</td><td>236</td><td>0</td><td>0.8</td><td>0</td><td>0</td></tr>\n",
       "\t<tr><th scope=row>7</th><td>62</td><td>0</td><td>140</td><td>268</td><td>0</td><td>3.6</td><td>2</td><td>3</td></tr>\n",
       "\t<tr><th scope=row>10</th><td>53</td><td>1</td><td>140</td><td>203</td><td>1</td><td>3.1</td><td>0</td><td>1</td></tr>\n",
       "\t<tr><th scope=row>11</th><td>57</td><td>1</td><td>140</td><td>192</td><td>0</td><td>0.4</td><td>0</td><td>0</td></tr>\n",
       "\t<tr><th scope=row>15</th><td>52</td><td>1</td><td>172</td><td>199</td><td>1</td><td>0.5</td><td>0</td><td>0</td></tr>\n",
       "\t<tr><th scope=row>19</th><td>48</td><td>0</td><td>130</td><td>275</td><td>0</td><td>0.2</td><td>0</td><td>0</td></tr>\n",
       "</tbody>\n",
       "</table>\n"
      ],
      "text/latex": [
       "A data.frame: 6 × 8\n",
       "\\begin{tabular}{r|llllllll}\n",
       "  & age & sex & trestbps & chol & fbs & oldpeak & ca & num\\\\\n",
       "  & <dbl> & <dbl> & <dbl> & <dbl> & <dbl> & <dbl> & <dbl> & <int>\\\\\n",
       "\\hline\n",
       "\t6 & 56 & 1 & 120 & 236 & 0 & 0.8 & 0 & 0\\\\\n",
       "\t7 & 62 & 0 & 140 & 268 & 0 & 3.6 & 2 & 3\\\\\n",
       "\t10 & 53 & 1 & 140 & 203 & 1 & 3.1 & 0 & 1\\\\\n",
       "\t11 & 57 & 1 & 140 & 192 & 0 & 0.4 & 0 & 0\\\\\n",
       "\t15 & 52 & 1 & 172 & 199 & 1 & 0.5 & 0 & 0\\\\\n",
       "\t19 & 48 & 0 & 130 & 275 & 0 & 0.2 & 0 & 0\\\\\n",
       "\\end{tabular}\n"
      ],
      "text/markdown": [
       "\n",
       "A data.frame: 6 × 8\n",
       "\n",
       "| <!--/--> | age &lt;dbl&gt; | sex &lt;dbl&gt; | trestbps &lt;dbl&gt; | chol &lt;dbl&gt; | fbs &lt;dbl&gt; | oldpeak &lt;dbl&gt; | ca &lt;dbl&gt; | num &lt;int&gt; |\n",
       "|---|---|---|---|---|---|---|---|---|\n",
       "| 6 | 56 | 1 | 120 | 236 | 0 | 0.8 | 0 | 0 |\n",
       "| 7 | 62 | 0 | 140 | 268 | 0 | 3.6 | 2 | 3 |\n",
       "| 10 | 53 | 1 | 140 | 203 | 1 | 3.1 | 0 | 1 |\n",
       "| 11 | 57 | 1 | 140 | 192 | 0 | 0.4 | 0 | 0 |\n",
       "| 15 | 52 | 1 | 172 | 199 | 1 | 0.5 | 0 | 0 |\n",
       "| 19 | 48 | 0 | 130 | 275 | 0 | 0.2 | 0 | 0 |\n",
       "\n"
      ],
      "text/plain": [
       "   age sex trestbps chol fbs oldpeak ca num\n",
       "6  56  1   120      236  0   0.8     0  0  \n",
       "7  62  0   140      268  0   3.6     2  3  \n",
       "10 53  1   140      203  1   3.1     0  1  \n",
       "11 57  1   140      192  0   0.4     0  0  \n",
       "15 52  1   172      199  1   0.5     0  0  \n",
       "19 48  0   130      275  0   0.2     0  0  "
      ]
     },
     "metadata": {},
     "output_type": "display_data"
    }
   ],
   "source": [
    "#splitting data into training and testing sets\n",
    "heart_data_split <-  initial_split(clean_heart_data, prop = 0.75, strata = num)\n",
    "heart_train <- training(heart_data_split) |>\n",
    "    select(-num)\n",
    "heart_test <- testing(heart_data_split)\n",
    "head(heart_train)\n",
    "head(heart_test)"
   ]
  },
  {
   "cell_type": "markdown",
   "id": "4322a0dd-afd4-427c-ab8f-e039a2b5a8e0",
   "metadata": {},
   "source": [
    "Step 3: Visualizing the Data\n",
    "-----\n",
    "Note: this is only with the training data"
   ]
  },
  {
   "cell_type": "code",
   "execution_count": 5,
   "id": "3dc221ab-7cb9-4e65-b097-ad002e611af1",
   "metadata": {},
   "outputs": [
    {
     "name": "stderr",
     "output_type": "stream",
     "text": [
      "\u001b[1m\u001b[22mNew names:\n",
      "\u001b[36m•\u001b[39m `` -> `...1`\n"
     ]
    },
    {
     "data": {
      "text/html": [
       "<table class=\"dataframe\">\n",
       "<caption>A tibble: 2 × 8</caption>\n",
       "<thead>\n",
       "\t<tr><th scope=col>...1</th><th scope=col>age</th><th scope=col>sex</th><th scope=col>trestbps</th><th scope=col>chol</th><th scope=col>fbs</th><th scope=col>oldpeak</th><th scope=col>ca</th></tr>\n",
       "\t<tr><th scope=col>&lt;chr&gt;</th><th scope=col>&lt;dbl&gt;</th><th scope=col>&lt;dbl&gt;</th><th scope=col>&lt;dbl&gt;</th><th scope=col>&lt;dbl&gt;</th><th scope=col>&lt;dbl&gt;</th><th scope=col>&lt;dbl&gt;</th><th scope=col>&lt;dbl&gt;</th></tr>\n",
       "</thead>\n",
       "<tbody>\n",
       "\t<tr><td>Mean  </td><td>54.77434</td><td>0.6902655</td><td>132.6195</td><td>245.3053</td><td>0.1548673</td><td>1.023451</td><td>0.6547085</td></tr>\n",
       "\t<tr><td>Median</td><td>56.00000</td><td>1.0000000</td><td>130.0000</td><td>240.0000</td><td>0.0000000</td><td>0.800000</td><td>0.0000000</td></tr>\n",
       "</tbody>\n",
       "</table>\n"
      ],
      "text/latex": [
       "A tibble: 2 × 8\n",
       "\\begin{tabular}{llllllll}\n",
       " ...1 & age & sex & trestbps & chol & fbs & oldpeak & ca\\\\\n",
       " <chr> & <dbl> & <dbl> & <dbl> & <dbl> & <dbl> & <dbl> & <dbl>\\\\\n",
       "\\hline\n",
       "\t Mean   & 54.77434 & 0.6902655 & 132.6195 & 245.3053 & 0.1548673 & 1.023451 & 0.6547085\\\\\n",
       "\t Median & 56.00000 & 1.0000000 & 130.0000 & 240.0000 & 0.0000000 & 0.800000 & 0.0000000\\\\\n",
       "\\end{tabular}\n"
      ],
      "text/markdown": [
       "\n",
       "A tibble: 2 × 8\n",
       "\n",
       "| ...1 &lt;chr&gt; | age &lt;dbl&gt; | sex &lt;dbl&gt; | trestbps &lt;dbl&gt; | chol &lt;dbl&gt; | fbs &lt;dbl&gt; | oldpeak &lt;dbl&gt; | ca &lt;dbl&gt; |\n",
       "|---|---|---|---|---|---|---|---|\n",
       "| Mean   | 54.77434 | 0.6902655 | 132.6195 | 245.3053 | 0.1548673 | 1.023451 | 0.6547085 |\n",
       "| Median | 56.00000 | 1.0000000 | 130.0000 | 240.0000 | 0.0000000 | 0.800000 | 0.0000000 |\n",
       "\n"
      ],
      "text/plain": [
       "  ...1   age      sex       trestbps chol     fbs       oldpeak  ca       \n",
       "1 Mean   54.77434 0.6902655 132.6195 245.3053 0.1548673 1.023451 0.6547085\n",
       "2 Median 56.00000 1.0000000 130.0000 240.0000 0.0000000 0.800000 0.0000000"
      ]
     },
     "metadata": {},
     "output_type": "display_data"
    }
   ],
   "source": [
    "names <- c(\"Mean\", \"Median\") #\"Number_of_Rows\"\n",
    "mean <- heart_train |>\n",
    "    map_df(mean, na.rm = TRUE)\n",
    "median <- heart_train |>\n",
    "    map_df(median, na.rm = TRUE)\n",
    "# count <- heart_train |>   #how do we count the number of individual data poinsts not just rows?\n",
    "#     map_df()\n",
    "tbl1 <- bind_rows(mean, median)# , count)\n",
    "exploratory_analysis <- bind_cols(names, tbl1)\n",
    "exploratory_analysis"
   ]
  },
  {
   "cell_type": "code",
   "execution_count": 12,
   "id": "2f6f945d-1413-492f-be4c-aea9ccffa8e7",
   "metadata": {},
   "outputs": [
    {
     "name": "stderr",
     "output_type": "stream",
     "text": [
      "Warning message:\n",
      "“Removed 3 rows containing non-finite values (stat_bin).”\n"
     ]
    },
    {
     "data": {
      "image/png": "[encoded data removed]",
      "text/plain": [
       "plot without title"
      ]
     },
     "metadata": {
      "image/png": {
       "height": 420,
       "width": 420
      }
     },
     "output_type": "display_data"
    }
   ],
   "source": [
    "age_distribution <- heart_train |>\n",
    "    ggplot() +\n",
    "    geom_histogram(bins = 6, aes(x=age)) +\n",
    "    labs(x=\"Age\",y = \"Number of Observations\")\n",
    "\n",
    "sex_distribution <- heart_train |>\n",
    "    ggplot() +\n",
    "    geom_histogram(bins = 5, aes(x=sex)) +\n",
    "    labs(x=\"Sex\",y = \"Number of Observations\") \n",
    "\n",
    "trestbps_distribution <- heart_train |>\n",
    "    ggplot() +\n",
    "    geom_histogram(bins = 5,aes(x=trestbps)) +\n",
    "    labs(x=\"Resting Blood Pressure\",y = \"Number of Observations\") \n",
    "\n",
    "chol_distribution <- heart_train |>\n",
    "    ggplot() +\n",
    "    geom_histogram(bins = 5,aes(x=chol)) +\n",
    "    labs(x=\"Cholesterol\",y = \"Number of Observations\") \n",
    "\n",
    "fbs_distribution <- heart_train |>\n",
    "    ggplot() +\n",
    "    geom_histogram(bins = 5 ,aes(x=fbs)) +\n",
    "    labs(x=\"Fasting Blood Pressure\",y = \"Number of Observations\") \n",
    "\n",
    "oldpeak_distribution <- heart_train |>\n",
    "    ggplot() +\n",
    "    geom_histogram(bins = 6,aes(x=oldpeak)) +\n",
    "    labs(x=\"ST Depression Height\",y = \"Number of Observations\") \n",
    "\n",
    "ca_distribution <- heart_train |>\n",
    "    ggplot() +\n",
    "    geom_histogram(bins = 4,aes(x=ca)) +\n",
    "    labs(x=\"Colored Major Blood vessels\",y = \"Number of Observations\") \n",
    "\n",
    "grid.arrange(age_distribution,sex_distribution,trestbps_distribution, chol_distribution, fbs_distribution, oldpeak_distribution, ca_distribution, ncol =4)"
   ]
  },
  {
   "cell_type": "code",
   "execution_count": null,
   "id": "df913b9d-f7ae-4df7-9c5e-832da082600b",
   "metadata": {},
   "outputs": [],
   "source": []
  }
 ],
 "metadata": {
  "kernelspec": {
   "display_name": "R",
   "language": "R",
   "name": "ir"
  },
  "language_info": {
   "codemirror_mode": "r",
   "file_extension": ".r",
   "mimetype": "text/x-r-source",
   "name": "R",
   "pygments_lexer": "r",
   "version": "4.1.3"
  }
 },
 "nbformat": 4,
 "nbformat_minor": 5
}
